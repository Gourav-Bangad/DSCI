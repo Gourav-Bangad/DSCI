{
 "cells": [
  {
   "cell_type": "code",
   "execution_count": 104,
   "metadata": {},
   "outputs": [],
   "source": [
    "import pandas as pd\n",
    "import numpy as np"
   ]
  },
  {
   "cell_type": "code",
   "execution_count": 105,
   "metadata": {},
   "outputs": [],
   "source": [
    "df = pd.read_csv('temp.csv',encoding= \"ISO-8859-1\")"
   ]
  },
  {
   "cell_type": "code",
   "execution_count": 106,
   "metadata": {},
   "outputs": [
    {
     "data": {
      "text/html": [
       "<div>\n",
       "<style scoped>\n",
       "    .dataframe tbody tr th:only-of-type {\n",
       "        vertical-align: middle;\n",
       "    }\n",
       "\n",
       "    .dataframe tbody tr th {\n",
       "        vertical-align: top;\n",
       "    }\n",
       "\n",
       "    .dataframe thead th {\n",
       "        text-align: right;\n",
       "    }\n",
       "</style>\n",
       "<table border=\"1\" class=\"dataframe\">\n",
       "  <thead>\n",
       "    <tr style=\"text-align: right;\">\n",
       "      <th></th>\n",
       "      <th>Unnamed: 0</th>\n",
       "      <th>Product Name</th>\n",
       "      <th>Prices</th>\n",
       "      <th>Description</th>\n",
       "    </tr>\n",
       "  </thead>\n",
       "  <tbody>\n",
       "    <tr>\n",
       "      <th>0</th>\n",
       "      <td>0</td>\n",
       "      <td>REDMI 10 (Midnight Black, 64 GB)</td>\n",
       "      <td>â¹9,999</td>\n",
       "      <td>4 GB RAM | 64 GB ROM | Expandable Upto 1 TB17....</td>\n",
       "    </tr>\n",
       "    <tr>\n",
       "      <th>1</th>\n",
       "      <td>1</td>\n",
       "      <td>POCO X4 Pro 5G (Laser Blue, 128 GB)</td>\n",
       "      <td>â¹16,499</td>\n",
       "      <td>6 GB RAM | 128 GB ROM | Expandable Upto 1 TB16...</td>\n",
       "    </tr>\n",
       "    <tr>\n",
       "      <th>2</th>\n",
       "      <td>2</td>\n",
       "      <td>realme C11 2021 (Cool Grey, 32 GB)</td>\n",
       "      <td>â¹7,499</td>\n",
       "      <td>2 GB RAM | 32 GB ROM | Expandable Upto 256 GB1...</td>\n",
       "    </tr>\n",
       "    <tr>\n",
       "      <th>3</th>\n",
       "      <td>3</td>\n",
       "      <td>APPLE iPhone 14 (Starlight, 128 GB)</td>\n",
       "      <td>â¹67,999</td>\n",
       "      <td>128 GB ROM15.49 cm (6.1 inch) Super Retina XDR...</td>\n",
       "    </tr>\n",
       "    <tr>\n",
       "      <th>4</th>\n",
       "      <td>4</td>\n",
       "      <td>realme C11 2021 (Cool Blue, 32 GB)</td>\n",
       "      <td>â¹7,499</td>\n",
       "      <td>2 GB RAM | 32 GB ROM | Expandable Upto 256 GB1...</td>\n",
       "    </tr>\n",
       "  </tbody>\n",
       "</table>\n",
       "</div>"
      ],
      "text/plain": [
       "   Unnamed: 0                         Product Name     Prices  \\\n",
       "0           0     REDMI 10 (Midnight Black, 64 GB)   â¹9,999   \n",
       "1           1  POCO X4 Pro 5G (Laser Blue, 128 GB)  â¹16,499   \n",
       "2           2   realme C11 2021 (Cool Grey, 32 GB)   â¹7,499   \n",
       "3           3  APPLE iPhone 14 (Starlight, 128 GB)  â¹67,999   \n",
       "4           4   realme C11 2021 (Cool Blue, 32 GB)   â¹7,499   \n",
       "\n",
       "                                         Description  \n",
       "0  4 GB RAM | 64 GB ROM | Expandable Upto 1 TB17....  \n",
       "1  6 GB RAM | 128 GB ROM | Expandable Upto 1 TB16...  \n",
       "2  2 GB RAM | 32 GB ROM | Expandable Upto 256 GB1...  \n",
       "3  128 GB ROM15.49 cm (6.1 inch) Super Retina XDR...  \n",
       "4  2 GB RAM | 32 GB ROM | Expandable Upto 256 GB1...  "
      ]
     },
     "execution_count": 106,
     "metadata": {},
     "output_type": "execute_result"
    }
   ],
   "source": [
    "df.head()"
   ]
  },
  {
   "cell_type": "code",
   "execution_count": 107,
   "metadata": {},
   "outputs": [],
   "source": [
    "df.drop(columns=['Unnamed: 0'],inplace=True)"
   ]
  },
  {
   "cell_type": "code",
   "execution_count": 108,
   "metadata": {},
   "outputs": [
    {
     "data": {
      "text/html": [
       "<div>\n",
       "<style scoped>\n",
       "    .dataframe tbody tr th:only-of-type {\n",
       "        vertical-align: middle;\n",
       "    }\n",
       "\n",
       "    .dataframe tbody tr th {\n",
       "        vertical-align: top;\n",
       "    }\n",
       "\n",
       "    .dataframe thead th {\n",
       "        text-align: right;\n",
       "    }\n",
       "</style>\n",
       "<table border=\"1\" class=\"dataframe\">\n",
       "  <thead>\n",
       "    <tr style=\"text-align: right;\">\n",
       "      <th></th>\n",
       "      <th>Product Name</th>\n",
       "      <th>Prices</th>\n",
       "      <th>Description</th>\n",
       "    </tr>\n",
       "  </thead>\n",
       "  <tbody>\n",
       "    <tr>\n",
       "      <th>0</th>\n",
       "      <td>REDMI 10 (Midnight Black, 64 GB)</td>\n",
       "      <td>â¹9,999</td>\n",
       "      <td>4 GB RAM | 64 GB ROM | Expandable Upto 1 TB17....</td>\n",
       "    </tr>\n",
       "    <tr>\n",
       "      <th>1</th>\n",
       "      <td>POCO X4 Pro 5G (Laser Blue, 128 GB)</td>\n",
       "      <td>â¹16,499</td>\n",
       "      <td>6 GB RAM | 128 GB ROM | Expandable Upto 1 TB16...</td>\n",
       "    </tr>\n",
       "    <tr>\n",
       "      <th>2</th>\n",
       "      <td>realme C11 2021 (Cool Grey, 32 GB)</td>\n",
       "      <td>â¹7,499</td>\n",
       "      <td>2 GB RAM | 32 GB ROM | Expandable Upto 256 GB1...</td>\n",
       "    </tr>\n",
       "    <tr>\n",
       "      <th>3</th>\n",
       "      <td>APPLE iPhone 14 (Starlight, 128 GB)</td>\n",
       "      <td>â¹67,999</td>\n",
       "      <td>128 GB ROM15.49 cm (6.1 inch) Super Retina XDR...</td>\n",
       "    </tr>\n",
       "    <tr>\n",
       "      <th>4</th>\n",
       "      <td>realme C11 2021 (Cool Blue, 32 GB)</td>\n",
       "      <td>â¹7,499</td>\n",
       "      <td>2 GB RAM | 32 GB ROM | Expandable Upto 256 GB1...</td>\n",
       "    </tr>\n",
       "  </tbody>\n",
       "</table>\n",
       "</div>"
      ],
      "text/plain": [
       "                          Product Name     Prices  \\\n",
       "0     REDMI 10 (Midnight Black, 64 GB)   â¹9,999   \n",
       "1  POCO X4 Pro 5G (Laser Blue, 128 GB)  â¹16,499   \n",
       "2   realme C11 2021 (Cool Grey, 32 GB)   â¹7,499   \n",
       "3  APPLE iPhone 14 (Starlight, 128 GB)  â¹67,999   \n",
       "4   realme C11 2021 (Cool Blue, 32 GB)   â¹7,499   \n",
       "\n",
       "                                         Description  \n",
       "0  4 GB RAM | 64 GB ROM | Expandable Upto 1 TB17....  \n",
       "1  6 GB RAM | 128 GB ROM | Expandable Upto 1 TB16...  \n",
       "2  2 GB RAM | 32 GB ROM | Expandable Upto 256 GB1...  \n",
       "3  128 GB ROM15.49 cm (6.1 inch) Super Retina XDR...  \n",
       "4  2 GB RAM | 32 GB ROM | Expandable Upto 256 GB1...  "
      ]
     },
     "execution_count": 108,
     "metadata": {},
     "output_type": "execute_result"
    }
   ],
   "source": [
    "df.head()"
   ]
  },
  {
   "cell_type": "code",
   "execution_count": 109,
   "metadata": {},
   "outputs": [],
   "source": [
    "df['Prices'] = df['Prices'].str.replace('â¹','')\n",
    "df['Prices'] = df['Prices'].str.replace(',','')"
   ]
  },
  {
   "cell_type": "code",
   "execution_count": 110,
   "metadata": {},
   "outputs": [
    {
     "data": {
      "text/html": [
       "<div>\n",
       "<style scoped>\n",
       "    .dataframe tbody tr th:only-of-type {\n",
       "        vertical-align: middle;\n",
       "    }\n",
       "\n",
       "    .dataframe tbody tr th {\n",
       "        vertical-align: top;\n",
       "    }\n",
       "\n",
       "    .dataframe thead th {\n",
       "        text-align: right;\n",
       "    }\n",
       "</style>\n",
       "<table border=\"1\" class=\"dataframe\">\n",
       "  <thead>\n",
       "    <tr style=\"text-align: right;\">\n",
       "      <th></th>\n",
       "      <th>Product Name</th>\n",
       "      <th>Prices</th>\n",
       "      <th>Description</th>\n",
       "    </tr>\n",
       "  </thead>\n",
       "  <tbody>\n",
       "    <tr>\n",
       "      <th>0</th>\n",
       "      <td>REDMI 10 (Midnight Black, 64 GB)</td>\n",
       "      <td>9999</td>\n",
       "      <td>4 GB RAM | 64 GB ROM | Expandable Upto 1 TB17....</td>\n",
       "    </tr>\n",
       "    <tr>\n",
       "      <th>1</th>\n",
       "      <td>POCO X4 Pro 5G (Laser Blue, 128 GB)</td>\n",
       "      <td>16499</td>\n",
       "      <td>6 GB RAM | 128 GB ROM | Expandable Upto 1 TB16...</td>\n",
       "    </tr>\n",
       "    <tr>\n",
       "      <th>2</th>\n",
       "      <td>realme C11 2021 (Cool Grey, 32 GB)</td>\n",
       "      <td>7499</td>\n",
       "      <td>2 GB RAM | 32 GB ROM | Expandable Upto 256 GB1...</td>\n",
       "    </tr>\n",
       "    <tr>\n",
       "      <th>3</th>\n",
       "      <td>APPLE iPhone 14 (Starlight, 128 GB)</td>\n",
       "      <td>67999</td>\n",
       "      <td>128 GB ROM15.49 cm (6.1 inch) Super Retina XDR...</td>\n",
       "    </tr>\n",
       "    <tr>\n",
       "      <th>4</th>\n",
       "      <td>realme C11 2021 (Cool Blue, 32 GB)</td>\n",
       "      <td>7499</td>\n",
       "      <td>2 GB RAM | 32 GB ROM | Expandable Upto 256 GB1...</td>\n",
       "    </tr>\n",
       "  </tbody>\n",
       "</table>\n",
       "</div>"
      ],
      "text/plain": [
       "                          Product Name Prices  \\\n",
       "0     REDMI 10 (Midnight Black, 64 GB)   9999   \n",
       "1  POCO X4 Pro 5G (Laser Blue, 128 GB)  16499   \n",
       "2   realme C11 2021 (Cool Grey, 32 GB)   7499   \n",
       "3  APPLE iPhone 14 (Starlight, 128 GB)  67999   \n",
       "4   realme C11 2021 (Cool Blue, 32 GB)   7499   \n",
       "\n",
       "                                         Description  \n",
       "0  4 GB RAM | 64 GB ROM | Expandable Upto 1 TB17....  \n",
       "1  6 GB RAM | 128 GB ROM | Expandable Upto 1 TB16...  \n",
       "2  2 GB RAM | 32 GB ROM | Expandable Upto 256 GB1...  \n",
       "3  128 GB ROM15.49 cm (6.1 inch) Super Retina XDR...  \n",
       "4  2 GB RAM | 32 GB ROM | Expandable Upto 256 GB1...  "
      ]
     },
     "execution_count": 110,
     "metadata": {},
     "output_type": "execute_result"
    }
   ],
   "source": [
    "df.head()"
   ]
  },
  {
   "cell_type": "code",
   "execution_count": 111,
   "metadata": {},
   "outputs": [
    {
     "name": "stdout",
     "output_type": "stream",
     "text": [
      "<class 'pandas.core.frame.DataFrame'>\n",
      "RangeIndex: 960 entries, 0 to 959\n",
      "Data columns (total 3 columns):\n",
      " #   Column        Non-Null Count  Dtype \n",
      "---  ------        --------------  ----- \n",
      " 0   Product Name  960 non-null    object\n",
      " 1   Prices        960 non-null    object\n",
      " 2   Description   960 non-null    object\n",
      "dtypes: object(3)\n",
      "memory usage: 22.6+ KB\n"
     ]
    }
   ],
   "source": [
    "df.info()"
   ]
  },
  {
   "cell_type": "code",
   "execution_count": 112,
   "metadata": {},
   "outputs": [],
   "source": [
    "df['Prices'] = df['Prices'].astype('int')"
   ]
  },
  {
   "cell_type": "code",
   "execution_count": 113,
   "metadata": {},
   "outputs": [
    {
     "name": "stdout",
     "output_type": "stream",
     "text": [
      "<class 'pandas.core.frame.DataFrame'>\n",
      "RangeIndex: 960 entries, 0 to 959\n",
      "Data columns (total 3 columns):\n",
      " #   Column        Non-Null Count  Dtype \n",
      "---  ------        --------------  ----- \n",
      " 0   Product Name  960 non-null    object\n",
      " 1   Prices        960 non-null    int32 \n",
      " 2   Description   960 non-null    object\n",
      "dtypes: int32(1), object(2)\n",
      "memory usage: 18.9+ KB\n"
     ]
    }
   ],
   "source": [
    "df.info()"
   ]
  },
  {
   "cell_type": "code",
   "execution_count": 114,
   "metadata": {},
   "outputs": [],
   "source": [
    "df['Brand Name'] = df['Product Name'].str.split(' ').str[0]"
   ]
  },
  {
   "cell_type": "code",
   "execution_count": 115,
   "metadata": {},
   "outputs": [
    {
     "data": {
      "text/html": [
       "<div>\n",
       "<style scoped>\n",
       "    .dataframe tbody tr th:only-of-type {\n",
       "        vertical-align: middle;\n",
       "    }\n",
       "\n",
       "    .dataframe tbody tr th {\n",
       "        vertical-align: top;\n",
       "    }\n",
       "\n",
       "    .dataframe thead th {\n",
       "        text-align: right;\n",
       "    }\n",
       "</style>\n",
       "<table border=\"1\" class=\"dataframe\">\n",
       "  <thead>\n",
       "    <tr style=\"text-align: right;\">\n",
       "      <th></th>\n",
       "      <th>Product Name</th>\n",
       "      <th>Prices</th>\n",
       "      <th>Description</th>\n",
       "      <th>Brand Name</th>\n",
       "    </tr>\n",
       "  </thead>\n",
       "  <tbody>\n",
       "    <tr>\n",
       "      <th>0</th>\n",
       "      <td>REDMI 10 (Midnight Black, 64 GB)</td>\n",
       "      <td>9999</td>\n",
       "      <td>4 GB RAM | 64 GB ROM | Expandable Upto 1 TB17....</td>\n",
       "      <td>REDMI</td>\n",
       "    </tr>\n",
       "    <tr>\n",
       "      <th>1</th>\n",
       "      <td>POCO X4 Pro 5G (Laser Blue, 128 GB)</td>\n",
       "      <td>16499</td>\n",
       "      <td>6 GB RAM | 128 GB ROM | Expandable Upto 1 TB16...</td>\n",
       "      <td>POCO</td>\n",
       "    </tr>\n",
       "    <tr>\n",
       "      <th>2</th>\n",
       "      <td>realme C11 2021 (Cool Grey, 32 GB)</td>\n",
       "      <td>7499</td>\n",
       "      <td>2 GB RAM | 32 GB ROM | Expandable Upto 256 GB1...</td>\n",
       "      <td>realme</td>\n",
       "    </tr>\n",
       "    <tr>\n",
       "      <th>3</th>\n",
       "      <td>APPLE iPhone 14 (Starlight, 128 GB)</td>\n",
       "      <td>67999</td>\n",
       "      <td>128 GB ROM15.49 cm (6.1 inch) Super Retina XDR...</td>\n",
       "      <td>APPLE</td>\n",
       "    </tr>\n",
       "    <tr>\n",
       "      <th>4</th>\n",
       "      <td>realme C11 2021 (Cool Blue, 32 GB)</td>\n",
       "      <td>7499</td>\n",
       "      <td>2 GB RAM | 32 GB ROM | Expandable Upto 256 GB1...</td>\n",
       "      <td>realme</td>\n",
       "    </tr>\n",
       "  </tbody>\n",
       "</table>\n",
       "</div>"
      ],
      "text/plain": [
       "                          Product Name  Prices  \\\n",
       "0     REDMI 10 (Midnight Black, 64 GB)    9999   \n",
       "1  POCO X4 Pro 5G (Laser Blue, 128 GB)   16499   \n",
       "2   realme C11 2021 (Cool Grey, 32 GB)    7499   \n",
       "3  APPLE iPhone 14 (Starlight, 128 GB)   67999   \n",
       "4   realme C11 2021 (Cool Blue, 32 GB)    7499   \n",
       "\n",
       "                                         Description Brand Name  \n",
       "0  4 GB RAM | 64 GB ROM | Expandable Upto 1 TB17....      REDMI  \n",
       "1  6 GB RAM | 128 GB ROM | Expandable Upto 1 TB16...       POCO  \n",
       "2  2 GB RAM | 32 GB ROM | Expandable Upto 256 GB1...     realme  \n",
       "3  128 GB ROM15.49 cm (6.1 inch) Super Retina XDR...      APPLE  \n",
       "4  2 GB RAM | 32 GB ROM | Expandable Upto 256 GB1...     realme  "
      ]
     },
     "execution_count": 115,
     "metadata": {},
     "output_type": "execute_result"
    }
   ],
   "source": [
    "df.head()"
   ]
  },
  {
   "cell_type": "code",
   "execution_count": 116,
   "metadata": {},
   "outputs": [
    {
     "data": {
      "text/html": [
       "<div>\n",
       "<style scoped>\n",
       "    .dataframe tbody tr th:only-of-type {\n",
       "        vertical-align: middle;\n",
       "    }\n",
       "\n",
       "    .dataframe tbody tr th {\n",
       "        vertical-align: top;\n",
       "    }\n",
       "\n",
       "    .dataframe thead th {\n",
       "        text-align: right;\n",
       "    }\n",
       "</style>\n",
       "<table border=\"1\" class=\"dataframe\">\n",
       "  <thead>\n",
       "    <tr style=\"text-align: right;\">\n",
       "      <th></th>\n",
       "      <th>Product Name</th>\n",
       "      <th>Prices</th>\n",
       "      <th>Description</th>\n",
       "      <th>Brand Name</th>\n",
       "    </tr>\n",
       "  </thead>\n",
       "  <tbody>\n",
       "    <tr>\n",
       "      <th>955</th>\n",
       "      <td>vivo V25 5G (Surfing Blue, 256 GB)</td>\n",
       "      <td>31999</td>\n",
       "      <td>12 GB RAM | 256 GB ROM16.36 cm (6.44 inch) Ful...</td>\n",
       "      <td>vivo</td>\n",
       "    </tr>\n",
       "    <tr>\n",
       "      <th>956</th>\n",
       "      <td>OPPO A15s (Dynamic Black, 64 GB)</td>\n",
       "      <td>10285</td>\n",
       "      <td>4 GB RAM | 64 GB ROM16.56 cm (6.52 inch) Displ...</td>\n",
       "      <td>OPPO</td>\n",
       "    </tr>\n",
       "    <tr>\n",
       "      <th>957</th>\n",
       "      <td>Nokia 110 TA-1302 DS</td>\n",
       "      <td>2099</td>\n",
       "      <td>4 MB RAM | 4 MB ROM | Expandable Upto 32 MB4.5...</td>\n",
       "      <td>Nokia</td>\n",
       "    </tr>\n",
       "    <tr>\n",
       "      <th>958</th>\n",
       "      <td>I Kall King Talking, Contact icon and Auto Cal...</td>\n",
       "      <td>774</td>\n",
       "      <td>32 MB RAM | 32 MB ROM4.57 cm (1.8 inch) Displa...</td>\n",
       "      <td>I</td>\n",
       "    </tr>\n",
       "    <tr>\n",
       "      <th>959</th>\n",
       "      <td>Tecno Spark 9 (Infinity Black, 128 GB)</td>\n",
       "      <td>9724</td>\n",
       "      <td>6 GB RAM | 128 GB ROM | Expandable Upto 512 GB...</td>\n",
       "      <td>Tecno</td>\n",
       "    </tr>\n",
       "  </tbody>\n",
       "</table>\n",
       "</div>"
      ],
      "text/plain": [
       "                                          Product Name  Prices  \\\n",
       "955                 vivo V25 5G (Surfing Blue, 256 GB)   31999   \n",
       "956                   OPPO A15s (Dynamic Black, 64 GB)   10285   \n",
       "957                               Nokia 110 TA-1302 DS    2099   \n",
       "958  I Kall King Talking, Contact icon and Auto Cal...     774   \n",
       "959             Tecno Spark 9 (Infinity Black, 128 GB)    9724   \n",
       "\n",
       "                                           Description Brand Name  \n",
       "955  12 GB RAM | 256 GB ROM16.36 cm (6.44 inch) Ful...       vivo  \n",
       "956  4 GB RAM | 64 GB ROM16.56 cm (6.52 inch) Displ...       OPPO  \n",
       "957  4 MB RAM | 4 MB ROM | Expandable Upto 32 MB4.5...      Nokia  \n",
       "958  32 MB RAM | 32 MB ROM4.57 cm (1.8 inch) Displa...          I  \n",
       "959  6 GB RAM | 128 GB ROM | Expandable Upto 512 GB...      Tecno  "
      ]
     },
     "execution_count": 116,
     "metadata": {},
     "output_type": "execute_result"
    }
   ],
   "source": [
    "df.tail()"
   ]
  },
  {
   "cell_type": "code",
   "execution_count": 117,
   "metadata": {},
   "outputs": [
    {
     "data": {
      "text/html": [
       "<div>\n",
       "<style scoped>\n",
       "    .dataframe tbody tr th:only-of-type {\n",
       "        vertical-align: middle;\n",
       "    }\n",
       "\n",
       "    .dataframe tbody tr th {\n",
       "        vertical-align: top;\n",
       "    }\n",
       "\n",
       "    .dataframe thead th {\n",
       "        text-align: right;\n",
       "    }\n",
       "</style>\n",
       "<table border=\"1\" class=\"dataframe\">\n",
       "  <thead>\n",
       "    <tr style=\"text-align: right;\">\n",
       "      <th></th>\n",
       "      <th>Product Name</th>\n",
       "      <th>Prices</th>\n",
       "      <th>Description</th>\n",
       "      <th>Brand Name</th>\n",
       "    </tr>\n",
       "  </thead>\n",
       "  <tbody>\n",
       "    <tr>\n",
       "      <th>0</th>\n",
       "      <td>REDMI 10 (Midnight Black, 64 GB)</td>\n",
       "      <td>9999</td>\n",
       "      <td>4 GB RAM | 64 GB ROM | Expandable Upto 1 TB17....</td>\n",
       "      <td>REDMI</td>\n",
       "    </tr>\n",
       "    <tr>\n",
       "      <th>1</th>\n",
       "      <td>POCO X4 Pro 5G (Laser Blue, 128 GB)</td>\n",
       "      <td>16499</td>\n",
       "      <td>6 GB RAM | 128 GB ROM | Expandable Upto 1 TB16...</td>\n",
       "      <td>POCO</td>\n",
       "    </tr>\n",
       "    <tr>\n",
       "      <th>2</th>\n",
       "      <td>realme C11 2021 (Cool Grey, 32 GB)</td>\n",
       "      <td>7499</td>\n",
       "      <td>2 GB RAM | 32 GB ROM | Expandable Upto 256 GB1...</td>\n",
       "      <td>realme</td>\n",
       "    </tr>\n",
       "    <tr>\n",
       "      <th>3</th>\n",
       "      <td>APPLE iPhone 14 (Starlight, 128 GB)</td>\n",
       "      <td>67999</td>\n",
       "      <td>128 GB ROM15.49 cm (6.1 inch) Super Retina XDR...</td>\n",
       "      <td>APPLE</td>\n",
       "    </tr>\n",
       "    <tr>\n",
       "      <th>4</th>\n",
       "      <td>realme C11 2021 (Cool Blue, 32 GB)</td>\n",
       "      <td>7499</td>\n",
       "      <td>2 GB RAM | 32 GB ROM | Expandable Upto 256 GB1...</td>\n",
       "      <td>realme</td>\n",
       "    </tr>\n",
       "  </tbody>\n",
       "</table>\n",
       "</div>"
      ],
      "text/plain": [
       "                          Product Name  Prices  \\\n",
       "0     REDMI 10 (Midnight Black, 64 GB)    9999   \n",
       "1  POCO X4 Pro 5G (Laser Blue, 128 GB)   16499   \n",
       "2   realme C11 2021 (Cool Grey, 32 GB)    7499   \n",
       "3  APPLE iPhone 14 (Starlight, 128 GB)   67999   \n",
       "4   realme C11 2021 (Cool Blue, 32 GB)    7499   \n",
       "\n",
       "                                         Description Brand Name  \n",
       "0  4 GB RAM | 64 GB ROM | Expandable Upto 1 TB17....      REDMI  \n",
       "1  6 GB RAM | 128 GB ROM | Expandable Upto 1 TB16...       POCO  \n",
       "2  2 GB RAM | 32 GB ROM | Expandable Upto 256 GB1...     realme  \n",
       "3  128 GB ROM15.49 cm (6.1 inch) Super Retina XDR...      APPLE  \n",
       "4  2 GB RAM | 32 GB ROM | Expandable Upto 256 GB1...     realme  "
      ]
     },
     "execution_count": 117,
     "metadata": {},
     "output_type": "execute_result"
    }
   ],
   "source": [
    "df.head()"
   ]
  },
  {
   "cell_type": "code",
   "execution_count": 118,
   "metadata": {},
   "outputs": [
    {
     "data": {
      "text/plain": [
       "realme        131\n",
       "REDMI          92\n",
       "SAMSUNG        90\n",
       "vivo           62\n",
       "Infinix        60\n",
       "APPLE          59\n",
       "POCO           54\n",
       "itel           51\n",
       "MOTOROLA       48\n",
       "LAVA           37\n",
       "OPPO           35\n",
       "Micromax       31\n",
       "Nokia          31\n",
       "Tecno          28\n",
       "Kechaoda       24\n",
       "KARBONN        20\n",
       "IQOO           13\n",
       "Cellecor        7\n",
       "Nothing         6\n",
       "MTR             6\n",
       "Redmi           6\n",
       "MU              6\n",
       "Google          6\n",
       "BlackZone       5\n",
       "Xiaomi          5\n",
       "I               5\n",
       "Motorola        5\n",
       "Moto            4\n",
       "MarQ            4\n",
       "DIZO            4\n",
       "Realme          4\n",
       "Good            3\n",
       "GREENBERRI      3\n",
       "PHILIPS         3\n",
       "OnePlus         3\n",
       "Lava            3\n",
       "SAREGAMA        2\n",
       "Easyfone        1\n",
       "Itel            1\n",
       "Energizer       1\n",
       "Salora          1\n",
       "Name: Brand Name, dtype: int64"
      ]
     },
     "execution_count": 118,
     "metadata": {},
     "output_type": "execute_result"
    }
   ],
   "source": [
    "df['Brand Name'].value_counts()"
   ]
  },
  {
   "cell_type": "code",
   "execution_count": 119,
   "metadata": {},
   "outputs": [],
   "source": [
    "temp = df['Brand Name'].value_counts()>3\n",
    "df=df[df['Brand Name'].isin(temp[temp].index.get_level_values(0).values)]"
   ]
  },
  {
   "cell_type": "code",
   "execution_count": 120,
   "metadata": {},
   "outputs": [
    {
     "name": "stdout",
     "output_type": "stream",
     "text": [
      "<class 'pandas.core.frame.DataFrame'>\n",
      "Int64Index: 939 entries, 0 to 959\n",
      "Data columns (total 4 columns):\n",
      " #   Column        Non-Null Count  Dtype \n",
      "---  ------        --------------  ----- \n",
      " 0   Product Name  939 non-null    object\n",
      " 1   Prices        939 non-null    int32 \n",
      " 2   Description   939 non-null    object\n",
      " 3   Brand Name    939 non-null    object\n",
      "dtypes: int32(1), object(3)\n",
      "memory usage: 33.0+ KB\n"
     ]
    }
   ],
   "source": [
    "df.info()"
   ]
  },
  {
   "cell_type": "code",
   "execution_count": 121,
   "metadata": {},
   "outputs": [
    {
     "data": {
      "text/plain": [
       "realme       131\n",
       "REDMI         92\n",
       "SAMSUNG       90\n",
       "vivo          62\n",
       "Infinix       60\n",
       "APPLE         59\n",
       "POCO          54\n",
       "itel          51\n",
       "MOTOROLA      48\n",
       "LAVA          37\n",
       "OPPO          35\n",
       "Micromax      31\n",
       "Nokia         31\n",
       "Tecno         28\n",
       "Kechaoda      24\n",
       "KARBONN       20\n",
       "IQOO          13\n",
       "Cellecor       7\n",
       "MU             6\n",
       "Redmi          6\n",
       "Nothing        6\n",
       "MTR            6\n",
       "Google         6\n",
       "I              5\n",
       "Xiaomi         5\n",
       "Motorola       5\n",
       "BlackZone      5\n",
       "DIZO           4\n",
       "Realme         4\n",
       "Moto           4\n",
       "MarQ           4\n",
       "Name: Brand Name, dtype: int64"
      ]
     },
     "execution_count": 121,
     "metadata": {},
     "output_type": "execute_result"
    }
   ],
   "source": [
    "df['Brand Name'].value_counts()"
   ]
  },
  {
   "cell_type": "code",
   "execution_count": 122,
   "metadata": {},
   "outputs": [
    {
     "data": {
      "text/plain": [
       "0      4 GB RAM | 64 GB ROM | Expandable Upto 1 TB17....\n",
       "1      6 GB RAM | 128 GB ROM | Expandable Upto 1 TB16...\n",
       "2      2 GB RAM | 32 GB ROM | Expandable Upto 256 GB1...\n",
       "3      128 GB ROM15.49 cm (6.1 inch) Super Retina XDR...\n",
       "4      2 GB RAM | 32 GB ROM | Expandable Upto 256 GB1...\n",
       "                             ...                        \n",
       "955    12 GB RAM | 256 GB ROM16.36 cm (6.44 inch) Ful...\n",
       "956    4 GB RAM | 64 GB ROM16.56 cm (6.52 inch) Displ...\n",
       "957    4 MB RAM | 4 MB ROM | Expandable Upto 32 MB4.5...\n",
       "958    32 MB RAM | 32 MB ROM4.57 cm (1.8 inch) Displa...\n",
       "959    6 GB RAM | 128 GB ROM | Expandable Upto 512 GB...\n",
       "Name: Description, Length: 939, dtype: object"
      ]
     },
     "execution_count": 122,
     "metadata": {},
     "output_type": "execute_result"
    }
   ],
   "source": [
    "df['Description']"
   ]
  },
  {
   "cell_type": "code",
   "execution_count": null,
   "metadata": {},
   "outputs": [],
   "source": []
  }
 ],
 "metadata": {
  "kernelspec": {
   "display_name": "Python 3",
   "language": "python",
   "name": "python3"
  },
  "language_info": {
   "codemirror_mode": {
    "name": "ipython",
    "version": 3
   },
   "file_extension": ".py",
   "mimetype": "text/x-python",
   "name": "python",
   "nbconvert_exporter": "python",
   "pygments_lexer": "ipython3",
   "version": "3.9.13"
  },
  "orig_nbformat": 4,
  "vscode": {
   "interpreter": {
    "hash": "6dd57269aed878346cce84acbfc6ca247e3a788e736e7c58b35f010c779f7b07"
   }
  }
 },
 "nbformat": 4,
 "nbformat_minor": 2
}
