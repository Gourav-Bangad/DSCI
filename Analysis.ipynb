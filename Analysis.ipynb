{
 "cells": [
  {
   "cell_type": "code",
   "execution_count": 2,
   "metadata": {},
   "outputs": [],
   "source": [
    "import pandas as pd\n",
    "import numpy as np"
   ]
  },
  {
   "cell_type": "code",
   "execution_count": 3,
   "metadata": {},
   "outputs": [],
   "source": [
    "df = pd.read_csv('temp.csv',encoding= \"ISO-8859-1\")"
   ]
  },
  {
   "cell_type": "code",
   "execution_count": 4,
   "metadata": {},
   "outputs": [
    {
     "data": {
      "text/html": [
       "<div>\n",
       "<style scoped>\n",
       "    .dataframe tbody tr th:only-of-type {\n",
       "        vertical-align: middle;\n",
       "    }\n",
       "\n",
       "    .dataframe tbody tr th {\n",
       "        vertical-align: top;\n",
       "    }\n",
       "\n",
       "    .dataframe thead th {\n",
       "        text-align: right;\n",
       "    }\n",
       "</style>\n",
       "<table border=\"1\" class=\"dataframe\">\n",
       "  <thead>\n",
       "    <tr style=\"text-align: right;\">\n",
       "      <th></th>\n",
       "      <th>Unnamed: 0</th>\n",
       "      <th>Product Name</th>\n",
       "      <th>Prices</th>\n",
       "      <th>Description</th>\n",
       "    </tr>\n",
       "  </thead>\n",
       "  <tbody>\n",
       "    <tr>\n",
       "      <th>0</th>\n",
       "      <td>0</td>\n",
       "      <td>REDMI 10 (Midnight Black, 64 GB)</td>\n",
       "      <td>â¹9,999</td>\n",
       "      <td>4 GB RAM | 64 GB ROM | Expandable Upto 1 TB17....</td>\n",
       "    </tr>\n",
       "    <tr>\n",
       "      <th>1</th>\n",
       "      <td>1</td>\n",
       "      <td>POCO X4 Pro 5G (Laser Blue, 128 GB)</td>\n",
       "      <td>â¹16,499</td>\n",
       "      <td>6 GB RAM | 128 GB ROM | Expandable Upto 1 TB16...</td>\n",
       "    </tr>\n",
       "    <tr>\n",
       "      <th>2</th>\n",
       "      <td>2</td>\n",
       "      <td>realme C11 2021 (Cool Grey, 32 GB)</td>\n",
       "      <td>â¹7,499</td>\n",
       "      <td>2 GB RAM | 32 GB ROM | Expandable Upto 256 GB1...</td>\n",
       "    </tr>\n",
       "    <tr>\n",
       "      <th>3</th>\n",
       "      <td>3</td>\n",
       "      <td>APPLE iPhone 14 (Starlight, 128 GB)</td>\n",
       "      <td>â¹67,999</td>\n",
       "      <td>128 GB ROM15.49 cm (6.1 inch) Super Retina XDR...</td>\n",
       "    </tr>\n",
       "    <tr>\n",
       "      <th>4</th>\n",
       "      <td>4</td>\n",
       "      <td>realme C11 2021 (Cool Blue, 32 GB)</td>\n",
       "      <td>â¹7,499</td>\n",
       "      <td>2 GB RAM | 32 GB ROM | Expandable Upto 256 GB1...</td>\n",
       "    </tr>\n",
       "  </tbody>\n",
       "</table>\n",
       "</div>"
      ],
      "text/plain": [
       "   Unnamed: 0                         Product Name     Prices  \\\n",
       "0           0     REDMI 10 (Midnight Black, 64 GB)   â¹9,999   \n",
       "1           1  POCO X4 Pro 5G (Laser Blue, 128 GB)  â¹16,499   \n",
       "2           2   realme C11 2021 (Cool Grey, 32 GB)   â¹7,499   \n",
       "3           3  APPLE iPhone 14 (Starlight, 128 GB)  â¹67,999   \n",
       "4           4   realme C11 2021 (Cool Blue, 32 GB)   â¹7,499   \n",
       "\n",
       "                                         Description  \n",
       "0  4 GB RAM | 64 GB ROM | Expandable Upto 1 TB17....  \n",
       "1  6 GB RAM | 128 GB ROM | Expandable Upto 1 TB16...  \n",
       "2  2 GB RAM | 32 GB ROM | Expandable Upto 256 GB1...  \n",
       "3  128 GB ROM15.49 cm (6.1 inch) Super Retina XDR...  \n",
       "4  2 GB RAM | 32 GB ROM | Expandable Upto 256 GB1...  "
      ]
     },
     "execution_count": 4,
     "metadata": {},
     "output_type": "execute_result"
    }
   ],
   "source": [
    "df.head()"
   ]
  },
  {
   "cell_type": "code",
   "execution_count": 5,
   "metadata": {},
   "outputs": [],
   "source": [
    "df.drop(columns=['Unnamed: 0'],inplace=True)"
   ]
  },
  {
   "cell_type": "code",
   "execution_count": 6,
   "metadata": {},
   "outputs": [
    {
     "data": {
      "text/html": [
       "<div>\n",
       "<style scoped>\n",
       "    .dataframe tbody tr th:only-of-type {\n",
       "        vertical-align: middle;\n",
       "    }\n",
       "\n",
       "    .dataframe tbody tr th {\n",
       "        vertical-align: top;\n",
       "    }\n",
       "\n",
       "    .dataframe thead th {\n",
       "        text-align: right;\n",
       "    }\n",
       "</style>\n",
       "<table border=\"1\" class=\"dataframe\">\n",
       "  <thead>\n",
       "    <tr style=\"text-align: right;\">\n",
       "      <th></th>\n",
       "      <th>Product Name</th>\n",
       "      <th>Prices</th>\n",
       "      <th>Description</th>\n",
       "    </tr>\n",
       "  </thead>\n",
       "  <tbody>\n",
       "    <tr>\n",
       "      <th>0</th>\n",
       "      <td>REDMI 10 (Midnight Black, 64 GB)</td>\n",
       "      <td>â¹9,999</td>\n",
       "      <td>4 GB RAM | 64 GB ROM | Expandable Upto 1 TB17....</td>\n",
       "    </tr>\n",
       "    <tr>\n",
       "      <th>1</th>\n",
       "      <td>POCO X4 Pro 5G (Laser Blue, 128 GB)</td>\n",
       "      <td>â¹16,499</td>\n",
       "      <td>6 GB RAM | 128 GB ROM | Expandable Upto 1 TB16...</td>\n",
       "    </tr>\n",
       "    <tr>\n",
       "      <th>2</th>\n",
       "      <td>realme C11 2021 (Cool Grey, 32 GB)</td>\n",
       "      <td>â¹7,499</td>\n",
       "      <td>2 GB RAM | 32 GB ROM | Expandable Upto 256 GB1...</td>\n",
       "    </tr>\n",
       "    <tr>\n",
       "      <th>3</th>\n",
       "      <td>APPLE iPhone 14 (Starlight, 128 GB)</td>\n",
       "      <td>â¹67,999</td>\n",
       "      <td>128 GB ROM15.49 cm (6.1 inch) Super Retina XDR...</td>\n",
       "    </tr>\n",
       "    <tr>\n",
       "      <th>4</th>\n",
       "      <td>realme C11 2021 (Cool Blue, 32 GB)</td>\n",
       "      <td>â¹7,499</td>\n",
       "      <td>2 GB RAM | 32 GB ROM | Expandable Upto 256 GB1...</td>\n",
       "    </tr>\n",
       "  </tbody>\n",
       "</table>\n",
       "</div>"
      ],
      "text/plain": [
       "                          Product Name     Prices  \\\n",
       "0     REDMI 10 (Midnight Black, 64 GB)   â¹9,999   \n",
       "1  POCO X4 Pro 5G (Laser Blue, 128 GB)  â¹16,499   \n",
       "2   realme C11 2021 (Cool Grey, 32 GB)   â¹7,499   \n",
       "3  APPLE iPhone 14 (Starlight, 128 GB)  â¹67,999   \n",
       "4   realme C11 2021 (Cool Blue, 32 GB)   â¹7,499   \n",
       "\n",
       "                                         Description  \n",
       "0  4 GB RAM | 64 GB ROM | Expandable Upto 1 TB17....  \n",
       "1  6 GB RAM | 128 GB ROM | Expandable Upto 1 TB16...  \n",
       "2  2 GB RAM | 32 GB ROM | Expandable Upto 256 GB1...  \n",
       "3  128 GB ROM15.49 cm (6.1 inch) Super Retina XDR...  \n",
       "4  2 GB RAM | 32 GB ROM | Expandable Upto 256 GB1...  "
      ]
     },
     "execution_count": 6,
     "metadata": {},
     "output_type": "execute_result"
    }
   ],
   "source": [
    "df.head()"
   ]
  },
  {
   "cell_type": "code",
   "execution_count": 7,
   "metadata": {},
   "outputs": [],
   "source": [
    "df['Prices'] = df['Prices'].str.replace('â¹','')\n",
    "df['Prices'] = df['Prices'].str.replace(',','')"
   ]
  },
  {
   "cell_type": "code",
   "execution_count": 8,
   "metadata": {},
   "outputs": [
    {
     "data": {
      "text/html": [
       "<div>\n",
       "<style scoped>\n",
       "    .dataframe tbody tr th:only-of-type {\n",
       "        vertical-align: middle;\n",
       "    }\n",
       "\n",
       "    .dataframe tbody tr th {\n",
       "        vertical-align: top;\n",
       "    }\n",
       "\n",
       "    .dataframe thead th {\n",
       "        text-align: right;\n",
       "    }\n",
       "</style>\n",
       "<table border=\"1\" class=\"dataframe\">\n",
       "  <thead>\n",
       "    <tr style=\"text-align: right;\">\n",
       "      <th></th>\n",
       "      <th>Product Name</th>\n",
       "      <th>Prices</th>\n",
       "      <th>Description</th>\n",
       "    </tr>\n",
       "  </thead>\n",
       "  <tbody>\n",
       "    <tr>\n",
       "      <th>0</th>\n",
       "      <td>REDMI 10 (Midnight Black, 64 GB)</td>\n",
       "      <td>9999</td>\n",
       "      <td>4 GB RAM | 64 GB ROM | Expandable Upto 1 TB17....</td>\n",
       "    </tr>\n",
       "    <tr>\n",
       "      <th>1</th>\n",
       "      <td>POCO X4 Pro 5G (Laser Blue, 128 GB)</td>\n",
       "      <td>16499</td>\n",
       "      <td>6 GB RAM | 128 GB ROM | Expandable Upto 1 TB16...</td>\n",
       "    </tr>\n",
       "    <tr>\n",
       "      <th>2</th>\n",
       "      <td>realme C11 2021 (Cool Grey, 32 GB)</td>\n",
       "      <td>7499</td>\n",
       "      <td>2 GB RAM | 32 GB ROM | Expandable Upto 256 GB1...</td>\n",
       "    </tr>\n",
       "    <tr>\n",
       "      <th>3</th>\n",
       "      <td>APPLE iPhone 14 (Starlight, 128 GB)</td>\n",
       "      <td>67999</td>\n",
       "      <td>128 GB ROM15.49 cm (6.1 inch) Super Retina XDR...</td>\n",
       "    </tr>\n",
       "    <tr>\n",
       "      <th>4</th>\n",
       "      <td>realme C11 2021 (Cool Blue, 32 GB)</td>\n",
       "      <td>7499</td>\n",
       "      <td>2 GB RAM | 32 GB ROM | Expandable Upto 256 GB1...</td>\n",
       "    </tr>\n",
       "  </tbody>\n",
       "</table>\n",
       "</div>"
      ],
      "text/plain": [
       "                          Product Name Prices  \\\n",
       "0     REDMI 10 (Midnight Black, 64 GB)   9999   \n",
       "1  POCO X4 Pro 5G (Laser Blue, 128 GB)  16499   \n",
       "2   realme C11 2021 (Cool Grey, 32 GB)   7499   \n",
       "3  APPLE iPhone 14 (Starlight, 128 GB)  67999   \n",
       "4   realme C11 2021 (Cool Blue, 32 GB)   7499   \n",
       "\n",
       "                                         Description  \n",
       "0  4 GB RAM | 64 GB ROM | Expandable Upto 1 TB17....  \n",
       "1  6 GB RAM | 128 GB ROM | Expandable Upto 1 TB16...  \n",
       "2  2 GB RAM | 32 GB ROM | Expandable Upto 256 GB1...  \n",
       "3  128 GB ROM15.49 cm (6.1 inch) Super Retina XDR...  \n",
       "4  2 GB RAM | 32 GB ROM | Expandable Upto 256 GB1...  "
      ]
     },
     "execution_count": 8,
     "metadata": {},
     "output_type": "execute_result"
    }
   ],
   "source": [
    "df.head()"
   ]
  },
  {
   "cell_type": "code",
   "execution_count": 9,
   "metadata": {},
   "outputs": [
    {
     "name": "stdout",
     "output_type": "stream",
     "text": [
      "<class 'pandas.core.frame.DataFrame'>\n",
      "RangeIndex: 960 entries, 0 to 959\n",
      "Data columns (total 3 columns):\n",
      " #   Column        Non-Null Count  Dtype \n",
      "---  ------        --------------  ----- \n",
      " 0   Product Name  960 non-null    object\n",
      " 1   Prices        960 non-null    object\n",
      " 2   Description   960 non-null    object\n",
      "dtypes: object(3)\n",
      "memory usage: 22.6+ KB\n"
     ]
    }
   ],
   "source": [
    "df.info()"
   ]
  },
  {
   "cell_type": "code",
   "execution_count": 10,
   "metadata": {},
   "outputs": [],
   "source": [
    "df['Prices'] = df['Prices'].astype('int')"
   ]
  },
  {
   "cell_type": "code",
   "execution_count": 11,
   "metadata": {},
   "outputs": [
    {
     "name": "stdout",
     "output_type": "stream",
     "text": [
      "<class 'pandas.core.frame.DataFrame'>\n",
      "RangeIndex: 960 entries, 0 to 959\n",
      "Data columns (total 3 columns):\n",
      " #   Column        Non-Null Count  Dtype \n",
      "---  ------        --------------  ----- \n",
      " 0   Product Name  960 non-null    object\n",
      " 1   Prices        960 non-null    int32 \n",
      " 2   Description   960 non-null    object\n",
      "dtypes: int32(1), object(2)\n",
      "memory usage: 18.9+ KB\n"
     ]
    }
   ],
   "source": [
    "df.info()"
   ]
  },
  {
   "cell_type": "code",
   "execution_count": 12,
   "metadata": {},
   "outputs": [],
   "source": [
    "df['Brand Name'] = df['Product Name'].str.split(' ').str[0]"
   ]
  },
  {
   "cell_type": "code",
   "execution_count": 13,
   "metadata": {},
   "outputs": [
    {
     "data": {
      "text/html": [
       "<div>\n",
       "<style scoped>\n",
       "    .dataframe tbody tr th:only-of-type {\n",
       "        vertical-align: middle;\n",
       "    }\n",
       "\n",
       "    .dataframe tbody tr th {\n",
       "        vertical-align: top;\n",
       "    }\n",
       "\n",
       "    .dataframe thead th {\n",
       "        text-align: right;\n",
       "    }\n",
       "</style>\n",
       "<table border=\"1\" class=\"dataframe\">\n",
       "  <thead>\n",
       "    <tr style=\"text-align: right;\">\n",
       "      <th></th>\n",
       "      <th>Product Name</th>\n",
       "      <th>Prices</th>\n",
       "      <th>Description</th>\n",
       "      <th>Brand Name</th>\n",
       "    </tr>\n",
       "  </thead>\n",
       "  <tbody>\n",
       "    <tr>\n",
       "      <th>0</th>\n",
       "      <td>REDMI 10 (Midnight Black, 64 GB)</td>\n",
       "      <td>9999</td>\n",
       "      <td>4 GB RAM | 64 GB ROM | Expandable Upto 1 TB17....</td>\n",
       "      <td>REDMI</td>\n",
       "    </tr>\n",
       "    <tr>\n",
       "      <th>1</th>\n",
       "      <td>POCO X4 Pro 5G (Laser Blue, 128 GB)</td>\n",
       "      <td>16499</td>\n",
       "      <td>6 GB RAM | 128 GB ROM | Expandable Upto 1 TB16...</td>\n",
       "      <td>POCO</td>\n",
       "    </tr>\n",
       "    <tr>\n",
       "      <th>2</th>\n",
       "      <td>realme C11 2021 (Cool Grey, 32 GB)</td>\n",
       "      <td>7499</td>\n",
       "      <td>2 GB RAM | 32 GB ROM | Expandable Upto 256 GB1...</td>\n",
       "      <td>realme</td>\n",
       "    </tr>\n",
       "    <tr>\n",
       "      <th>3</th>\n",
       "      <td>APPLE iPhone 14 (Starlight, 128 GB)</td>\n",
       "      <td>67999</td>\n",
       "      <td>128 GB ROM15.49 cm (6.1 inch) Super Retina XDR...</td>\n",
       "      <td>APPLE</td>\n",
       "    </tr>\n",
       "    <tr>\n",
       "      <th>4</th>\n",
       "      <td>realme C11 2021 (Cool Blue, 32 GB)</td>\n",
       "      <td>7499</td>\n",
       "      <td>2 GB RAM | 32 GB ROM | Expandable Upto 256 GB1...</td>\n",
       "      <td>realme</td>\n",
       "    </tr>\n",
       "  </tbody>\n",
       "</table>\n",
       "</div>"
      ],
      "text/plain": [
       "                          Product Name  Prices  \\\n",
       "0     REDMI 10 (Midnight Black, 64 GB)    9999   \n",
       "1  POCO X4 Pro 5G (Laser Blue, 128 GB)   16499   \n",
       "2   realme C11 2021 (Cool Grey, 32 GB)    7499   \n",
       "3  APPLE iPhone 14 (Starlight, 128 GB)   67999   \n",
       "4   realme C11 2021 (Cool Blue, 32 GB)    7499   \n",
       "\n",
       "                                         Description Brand Name  \n",
       "0  4 GB RAM | 64 GB ROM | Expandable Upto 1 TB17....      REDMI  \n",
       "1  6 GB RAM | 128 GB ROM | Expandable Upto 1 TB16...       POCO  \n",
       "2  2 GB RAM | 32 GB ROM | Expandable Upto 256 GB1...     realme  \n",
       "3  128 GB ROM15.49 cm (6.1 inch) Super Retina XDR...      APPLE  \n",
       "4  2 GB RAM | 32 GB ROM | Expandable Upto 256 GB1...     realme  "
      ]
     },
     "execution_count": 13,
     "metadata": {},
     "output_type": "execute_result"
    }
   ],
   "source": [
    "df.head()"
   ]
  },
  {
   "cell_type": "code",
   "execution_count": 14,
   "metadata": {},
   "outputs": [
    {
     "data": {
      "text/html": [
       "<div>\n",
       "<style scoped>\n",
       "    .dataframe tbody tr th:only-of-type {\n",
       "        vertical-align: middle;\n",
       "    }\n",
       "\n",
       "    .dataframe tbody tr th {\n",
       "        vertical-align: top;\n",
       "    }\n",
       "\n",
       "    .dataframe thead th {\n",
       "        text-align: right;\n",
       "    }\n",
       "</style>\n",
       "<table border=\"1\" class=\"dataframe\">\n",
       "  <thead>\n",
       "    <tr style=\"text-align: right;\">\n",
       "      <th></th>\n",
       "      <th>Product Name</th>\n",
       "      <th>Prices</th>\n",
       "      <th>Description</th>\n",
       "      <th>Brand Name</th>\n",
       "    </tr>\n",
       "  </thead>\n",
       "  <tbody>\n",
       "    <tr>\n",
       "      <th>955</th>\n",
       "      <td>vivo V25 5G (Surfing Blue, 256 GB)</td>\n",
       "      <td>31999</td>\n",
       "      <td>12 GB RAM | 256 GB ROM16.36 cm (6.44 inch) Ful...</td>\n",
       "      <td>vivo</td>\n",
       "    </tr>\n",
       "    <tr>\n",
       "      <th>956</th>\n",
       "      <td>OPPO A15s (Dynamic Black, 64 GB)</td>\n",
       "      <td>10285</td>\n",
       "      <td>4 GB RAM | 64 GB ROM16.56 cm (6.52 inch) Displ...</td>\n",
       "      <td>OPPO</td>\n",
       "    </tr>\n",
       "    <tr>\n",
       "      <th>957</th>\n",
       "      <td>Nokia 110 TA-1302 DS</td>\n",
       "      <td>2099</td>\n",
       "      <td>4 MB RAM | 4 MB ROM | Expandable Upto 32 MB4.5...</td>\n",
       "      <td>Nokia</td>\n",
       "    </tr>\n",
       "    <tr>\n",
       "      <th>958</th>\n",
       "      <td>I Kall King Talking, Contact icon and Auto Cal...</td>\n",
       "      <td>774</td>\n",
       "      <td>32 MB RAM | 32 MB ROM4.57 cm (1.8 inch) Displa...</td>\n",
       "      <td>I</td>\n",
       "    </tr>\n",
       "    <tr>\n",
       "      <th>959</th>\n",
       "      <td>Tecno Spark 9 (Infinity Black, 128 GB)</td>\n",
       "      <td>9724</td>\n",
       "      <td>6 GB RAM | 128 GB ROM | Expandable Upto 512 GB...</td>\n",
       "      <td>Tecno</td>\n",
       "    </tr>\n",
       "  </tbody>\n",
       "</table>\n",
       "</div>"
      ],
      "text/plain": [
       "                                          Product Name  Prices  \\\n",
       "955                 vivo V25 5G (Surfing Blue, 256 GB)   31999   \n",
       "956                   OPPO A15s (Dynamic Black, 64 GB)   10285   \n",
       "957                               Nokia 110 TA-1302 DS    2099   \n",
       "958  I Kall King Talking, Contact icon and Auto Cal...     774   \n",
       "959             Tecno Spark 9 (Infinity Black, 128 GB)    9724   \n",
       "\n",
       "                                           Description Brand Name  \n",
       "955  12 GB RAM | 256 GB ROM16.36 cm (6.44 inch) Ful...       vivo  \n",
       "956  4 GB RAM | 64 GB ROM16.56 cm (6.52 inch) Displ...       OPPO  \n",
       "957  4 MB RAM | 4 MB ROM | Expandable Upto 32 MB4.5...      Nokia  \n",
       "958  32 MB RAM | 32 MB ROM4.57 cm (1.8 inch) Displa...          I  \n",
       "959  6 GB RAM | 128 GB ROM | Expandable Upto 512 GB...      Tecno  "
      ]
     },
     "execution_count": 14,
     "metadata": {},
     "output_type": "execute_result"
    }
   ],
   "source": [
    "df.tail()"
   ]
  },
  {
   "cell_type": "code",
   "execution_count": 15,
   "metadata": {},
   "outputs": [
    {
     "data": {
      "text/html": [
       "<div>\n",
       "<style scoped>\n",
       "    .dataframe tbody tr th:only-of-type {\n",
       "        vertical-align: middle;\n",
       "    }\n",
       "\n",
       "    .dataframe tbody tr th {\n",
       "        vertical-align: top;\n",
       "    }\n",
       "\n",
       "    .dataframe thead th {\n",
       "        text-align: right;\n",
       "    }\n",
       "</style>\n",
       "<table border=\"1\" class=\"dataframe\">\n",
       "  <thead>\n",
       "    <tr style=\"text-align: right;\">\n",
       "      <th></th>\n",
       "      <th>Product Name</th>\n",
       "      <th>Prices</th>\n",
       "      <th>Description</th>\n",
       "      <th>Brand Name</th>\n",
       "    </tr>\n",
       "  </thead>\n",
       "  <tbody>\n",
       "    <tr>\n",
       "      <th>0</th>\n",
       "      <td>REDMI 10 (Midnight Black, 64 GB)</td>\n",
       "      <td>9999</td>\n",
       "      <td>4 GB RAM | 64 GB ROM | Expandable Upto 1 TB17....</td>\n",
       "      <td>REDMI</td>\n",
       "    </tr>\n",
       "    <tr>\n",
       "      <th>1</th>\n",
       "      <td>POCO X4 Pro 5G (Laser Blue, 128 GB)</td>\n",
       "      <td>16499</td>\n",
       "      <td>6 GB RAM | 128 GB ROM | Expandable Upto 1 TB16...</td>\n",
       "      <td>POCO</td>\n",
       "    </tr>\n",
       "    <tr>\n",
       "      <th>2</th>\n",
       "      <td>realme C11 2021 (Cool Grey, 32 GB)</td>\n",
       "      <td>7499</td>\n",
       "      <td>2 GB RAM | 32 GB ROM | Expandable Upto 256 GB1...</td>\n",
       "      <td>realme</td>\n",
       "    </tr>\n",
       "    <tr>\n",
       "      <th>3</th>\n",
       "      <td>APPLE iPhone 14 (Starlight, 128 GB)</td>\n",
       "      <td>67999</td>\n",
       "      <td>128 GB ROM15.49 cm (6.1 inch) Super Retina XDR...</td>\n",
       "      <td>APPLE</td>\n",
       "    </tr>\n",
       "    <tr>\n",
       "      <th>4</th>\n",
       "      <td>realme C11 2021 (Cool Blue, 32 GB)</td>\n",
       "      <td>7499</td>\n",
       "      <td>2 GB RAM | 32 GB ROM | Expandable Upto 256 GB1...</td>\n",
       "      <td>realme</td>\n",
       "    </tr>\n",
       "  </tbody>\n",
       "</table>\n",
       "</div>"
      ],
      "text/plain": [
       "                          Product Name  Prices  \\\n",
       "0     REDMI 10 (Midnight Black, 64 GB)    9999   \n",
       "1  POCO X4 Pro 5G (Laser Blue, 128 GB)   16499   \n",
       "2   realme C11 2021 (Cool Grey, 32 GB)    7499   \n",
       "3  APPLE iPhone 14 (Starlight, 128 GB)   67999   \n",
       "4   realme C11 2021 (Cool Blue, 32 GB)    7499   \n",
       "\n",
       "                                         Description Brand Name  \n",
       "0  4 GB RAM | 64 GB ROM | Expandable Upto 1 TB17....      REDMI  \n",
       "1  6 GB RAM | 128 GB ROM | Expandable Upto 1 TB16...       POCO  \n",
       "2  2 GB RAM | 32 GB ROM | Expandable Upto 256 GB1...     realme  \n",
       "3  128 GB ROM15.49 cm (6.1 inch) Super Retina XDR...      APPLE  \n",
       "4  2 GB RAM | 32 GB ROM | Expandable Upto 256 GB1...     realme  "
      ]
     },
     "execution_count": 15,
     "metadata": {},
     "output_type": "execute_result"
    }
   ],
   "source": [
    "df.head()"
   ]
  },
  {
   "cell_type": "code",
   "execution_count": 16,
   "metadata": {},
   "outputs": [
    {
     "data": {
      "text/plain": [
       "realme        131\n",
       "REDMI          92\n",
       "SAMSUNG        90\n",
       "vivo           62\n",
       "Infinix        60\n",
       "APPLE          59\n",
       "POCO           54\n",
       "itel           51\n",
       "MOTOROLA       48\n",
       "LAVA           37\n",
       "OPPO           35\n",
       "Micromax       31\n",
       "Nokia          31\n",
       "Tecno          28\n",
       "Kechaoda       24\n",
       "KARBONN        20\n",
       "IQOO           13\n",
       "Cellecor        7\n",
       "Nothing         6\n",
       "MTR             6\n",
       "Redmi           6\n",
       "MU              6\n",
       "Google          6\n",
       "BlackZone       5\n",
       "Xiaomi          5\n",
       "I               5\n",
       "Motorola        5\n",
       "Moto            4\n",
       "MarQ            4\n",
       "DIZO            4\n",
       "Realme          4\n",
       "Good            3\n",
       "GREENBERRI      3\n",
       "PHILIPS         3\n",
       "OnePlus         3\n",
       "Lava            3\n",
       "SAREGAMA        2\n",
       "Easyfone        1\n",
       "Itel            1\n",
       "Energizer       1\n",
       "Salora          1\n",
       "Name: Brand Name, dtype: int64"
      ]
     },
     "execution_count": 16,
     "metadata": {},
     "output_type": "execute_result"
    }
   ],
   "source": [
    "df['Brand Name'].value_counts()"
   ]
  },
  {
   "cell_type": "code",
   "execution_count": 17,
   "metadata": {},
   "outputs": [],
   "source": [
    "temp = df['Brand Name'].value_counts()>3\n",
    "df=df[df['Brand Name'].isin(temp[temp].index.get_level_values(0).values)]"
   ]
  },
  {
   "cell_type": "code",
   "execution_count": 18,
   "metadata": {},
   "outputs": [
    {
     "name": "stdout",
     "output_type": "stream",
     "text": [
      "<class 'pandas.core.frame.DataFrame'>\n",
      "Int64Index: 939 entries, 0 to 959\n",
      "Data columns (total 4 columns):\n",
      " #   Column        Non-Null Count  Dtype \n",
      "---  ------        --------------  ----- \n",
      " 0   Product Name  939 non-null    object\n",
      " 1   Prices        939 non-null    int32 \n",
      " 2   Description   939 non-null    object\n",
      " 3   Brand Name    939 non-null    object\n",
      "dtypes: int32(1), object(3)\n",
      "memory usage: 33.0+ KB\n"
     ]
    }
   ],
   "source": [
    "df.info()"
   ]
  },
  {
   "cell_type": "code",
   "execution_count": 19,
   "metadata": {},
   "outputs": [
    {
     "data": {
      "text/plain": [
       "realme       131\n",
       "REDMI         92\n",
       "SAMSUNG       90\n",
       "vivo          62\n",
       "Infinix       60\n",
       "APPLE         59\n",
       "POCO          54\n",
       "itel          51\n",
       "MOTOROLA      48\n",
       "LAVA          37\n",
       "OPPO          35\n",
       "Micromax      31\n",
       "Nokia         31\n",
       "Tecno         28\n",
       "Kechaoda      24\n",
       "KARBONN       20\n",
       "IQOO          13\n",
       "Cellecor       7\n",
       "MU             6\n",
       "Redmi          6\n",
       "Nothing        6\n",
       "MTR            6\n",
       "Google         6\n",
       "I              5\n",
       "Xiaomi         5\n",
       "Motorola       5\n",
       "BlackZone      5\n",
       "DIZO           4\n",
       "Realme         4\n",
       "Moto           4\n",
       "MarQ           4\n",
       "Name: Brand Name, dtype: int64"
      ]
     },
     "execution_count": 19,
     "metadata": {},
     "output_type": "execute_result"
    }
   ],
   "source": [
    "df['Brand Name'].value_counts()"
   ]
  },
  {
   "cell_type": "code",
   "execution_count": 20,
   "metadata": {},
   "outputs": [
    {
     "data": {
      "text/plain": [
       "0      4 GB RAM | 64 GB ROM | Expandable Upto 1 TB17....\n",
       "1      6 GB RAM | 128 GB ROM | Expandable Upto 1 TB16...\n",
       "2      2 GB RAM | 32 GB ROM | Expandable Upto 256 GB1...\n",
       "3      128 GB ROM15.49 cm (6.1 inch) Super Retina XDR...\n",
       "4      2 GB RAM | 32 GB ROM | Expandable Upto 256 GB1...\n",
       "                             ...                        \n",
       "955    12 GB RAM | 256 GB ROM16.36 cm (6.44 inch) Ful...\n",
       "956    4 GB RAM | 64 GB ROM16.56 cm (6.52 inch) Displ...\n",
       "957    4 MB RAM | 4 MB ROM | Expandable Upto 32 MB4.5...\n",
       "958    32 MB RAM | 32 MB ROM4.57 cm (1.8 inch) Displa...\n",
       "959    6 GB RAM | 128 GB ROM | Expandable Upto 512 GB...\n",
       "Name: Description, Length: 939, dtype: object"
      ]
     },
     "execution_count": 20,
     "metadata": {},
     "output_type": "execute_result"
    }
   ],
   "source": [
    "df['Description']"
   ]
  },
  {
   "cell_type": "code",
   "execution_count": 21,
   "metadata": {},
   "outputs": [],
   "source": [
    "df['RAM'] = df['Description'].str.split('RAM').str[0]"
   ]
  },
  {
   "cell_type": "code",
   "execution_count": 22,
   "metadata": {},
   "outputs": [
    {
     "data": {
      "text/html": [
       "<div>\n",
       "<style scoped>\n",
       "    .dataframe tbody tr th:only-of-type {\n",
       "        vertical-align: middle;\n",
       "    }\n",
       "\n",
       "    .dataframe tbody tr th {\n",
       "        vertical-align: top;\n",
       "    }\n",
       "\n",
       "    .dataframe thead th {\n",
       "        text-align: right;\n",
       "    }\n",
       "</style>\n",
       "<table border=\"1\" class=\"dataframe\">\n",
       "  <thead>\n",
       "    <tr style=\"text-align: right;\">\n",
       "      <th></th>\n",
       "      <th>Product Name</th>\n",
       "      <th>Prices</th>\n",
       "      <th>Description</th>\n",
       "      <th>Brand Name</th>\n",
       "      <th>RAM</th>\n",
       "    </tr>\n",
       "  </thead>\n",
       "  <tbody>\n",
       "    <tr>\n",
       "      <th>0</th>\n",
       "      <td>REDMI 10 (Midnight Black, 64 GB)</td>\n",
       "      <td>9999</td>\n",
       "      <td>4 GB RAM | 64 GB ROM | Expandable Upto 1 TB17....</td>\n",
       "      <td>REDMI</td>\n",
       "      <td>4 GB</td>\n",
       "    </tr>\n",
       "    <tr>\n",
       "      <th>1</th>\n",
       "      <td>POCO X4 Pro 5G (Laser Blue, 128 GB)</td>\n",
       "      <td>16499</td>\n",
       "      <td>6 GB RAM | 128 GB ROM | Expandable Upto 1 TB16...</td>\n",
       "      <td>POCO</td>\n",
       "      <td>6 GB</td>\n",
       "    </tr>\n",
       "    <tr>\n",
       "      <th>2</th>\n",
       "      <td>realme C11 2021 (Cool Grey, 32 GB)</td>\n",
       "      <td>7499</td>\n",
       "      <td>2 GB RAM | 32 GB ROM | Expandable Upto 256 GB1...</td>\n",
       "      <td>realme</td>\n",
       "      <td>2 GB</td>\n",
       "    </tr>\n",
       "    <tr>\n",
       "      <th>3</th>\n",
       "      <td>APPLE iPhone 14 (Starlight, 128 GB)</td>\n",
       "      <td>67999</td>\n",
       "      <td>128 GB ROM15.49 cm (6.1 inch) Super Retina XDR...</td>\n",
       "      <td>APPLE</td>\n",
       "      <td>128 GB ROM15.49 cm (6.1 inch) Super Retina XDR...</td>\n",
       "    </tr>\n",
       "    <tr>\n",
       "      <th>4</th>\n",
       "      <td>realme C11 2021 (Cool Blue, 32 GB)</td>\n",
       "      <td>7499</td>\n",
       "      <td>2 GB RAM | 32 GB ROM | Expandable Upto 256 GB1...</td>\n",
       "      <td>realme</td>\n",
       "      <td>2 GB</td>\n",
       "    </tr>\n",
       "  </tbody>\n",
       "</table>\n",
       "</div>"
      ],
      "text/plain": [
       "                          Product Name  Prices  \\\n",
       "0     REDMI 10 (Midnight Black, 64 GB)    9999   \n",
       "1  POCO X4 Pro 5G (Laser Blue, 128 GB)   16499   \n",
       "2   realme C11 2021 (Cool Grey, 32 GB)    7499   \n",
       "3  APPLE iPhone 14 (Starlight, 128 GB)   67999   \n",
       "4   realme C11 2021 (Cool Blue, 32 GB)    7499   \n",
       "\n",
       "                                         Description Brand Name  \\\n",
       "0  4 GB RAM | 64 GB ROM | Expandable Upto 1 TB17....      REDMI   \n",
       "1  6 GB RAM | 128 GB ROM | Expandable Upto 1 TB16...       POCO   \n",
       "2  2 GB RAM | 32 GB ROM | Expandable Upto 256 GB1...     realme   \n",
       "3  128 GB ROM15.49 cm (6.1 inch) Super Retina XDR...      APPLE   \n",
       "4  2 GB RAM | 32 GB ROM | Expandable Upto 256 GB1...     realme   \n",
       "\n",
       "                                                 RAM  \n",
       "0                                              4 GB   \n",
       "1                                              6 GB   \n",
       "2                                              2 GB   \n",
       "3  128 GB ROM15.49 cm (6.1 inch) Super Retina XDR...  \n",
       "4                                              2 GB   "
      ]
     },
     "execution_count": 22,
     "metadata": {},
     "output_type": "execute_result"
    }
   ],
   "source": [
    "df.head()"
   ]
  },
  {
   "cell_type": "code",
   "execution_count": 23,
   "metadata": {},
   "outputs": [
    {
     "name": "stderr",
     "output_type": "stream",
     "text": [
      "C:\\Users\\MI\\AppData\\Local\\Temp\\ipykernel_5856\\3456031788.py:3: SettingWithCopyWarning: \n",
      "A value is trying to be set on a copy of a slice from a DataFrame\n",
      "\n",
      "See the caveats in the documentation: https://pandas.pydata.org/pandas-docs/stable/user_guide/indexing.html#returning-a-view-versus-a-copy\n",
      "  df['RAM'][i] = ''  # np.nan\n"
     ]
    }
   ],
   "source": [
    "for i in df.index:\n",
    "              if(len(df['RAM'][i])>5):\n",
    "                            df['RAM'][i] = ''  # np.nan"
   ]
  },
  {
   "cell_type": "code",
   "execution_count": 24,
   "metadata": {},
   "outputs": [
    {
     "data": {
      "text/html": [
       "<div>\n",
       "<style scoped>\n",
       "    .dataframe tbody tr th:only-of-type {\n",
       "        vertical-align: middle;\n",
       "    }\n",
       "\n",
       "    .dataframe tbody tr th {\n",
       "        vertical-align: top;\n",
       "    }\n",
       "\n",
       "    .dataframe thead th {\n",
       "        text-align: right;\n",
       "    }\n",
       "</style>\n",
       "<table border=\"1\" class=\"dataframe\">\n",
       "  <thead>\n",
       "    <tr style=\"text-align: right;\">\n",
       "      <th></th>\n",
       "      <th>Product Name</th>\n",
       "      <th>Prices</th>\n",
       "      <th>Description</th>\n",
       "      <th>Brand Name</th>\n",
       "      <th>RAM</th>\n",
       "    </tr>\n",
       "  </thead>\n",
       "  <tbody>\n",
       "    <tr>\n",
       "      <th>0</th>\n",
       "      <td>REDMI 10 (Midnight Black, 64 GB)</td>\n",
       "      <td>9999</td>\n",
       "      <td>4 GB RAM | 64 GB ROM | Expandable Upto 1 TB17....</td>\n",
       "      <td>REDMI</td>\n",
       "      <td>4 GB</td>\n",
       "    </tr>\n",
       "    <tr>\n",
       "      <th>1</th>\n",
       "      <td>POCO X4 Pro 5G (Laser Blue, 128 GB)</td>\n",
       "      <td>16499</td>\n",
       "      <td>6 GB RAM | 128 GB ROM | Expandable Upto 1 TB16...</td>\n",
       "      <td>POCO</td>\n",
       "      <td>6 GB</td>\n",
       "    </tr>\n",
       "    <tr>\n",
       "      <th>2</th>\n",
       "      <td>realme C11 2021 (Cool Grey, 32 GB)</td>\n",
       "      <td>7499</td>\n",
       "      <td>2 GB RAM | 32 GB ROM | Expandable Upto 256 GB1...</td>\n",
       "      <td>realme</td>\n",
       "      <td>2 GB</td>\n",
       "    </tr>\n",
       "    <tr>\n",
       "      <th>3</th>\n",
       "      <td>APPLE iPhone 14 (Starlight, 128 GB)</td>\n",
       "      <td>67999</td>\n",
       "      <td>128 GB ROM15.49 cm (6.1 inch) Super Retina XDR...</td>\n",
       "      <td>APPLE</td>\n",
       "      <td></td>\n",
       "    </tr>\n",
       "    <tr>\n",
       "      <th>4</th>\n",
       "      <td>realme C11 2021 (Cool Blue, 32 GB)</td>\n",
       "      <td>7499</td>\n",
       "      <td>2 GB RAM | 32 GB ROM | Expandable Upto 256 GB1...</td>\n",
       "      <td>realme</td>\n",
       "      <td>2 GB</td>\n",
       "    </tr>\n",
       "  </tbody>\n",
       "</table>\n",
       "</div>"
      ],
      "text/plain": [
       "                          Product Name  Prices  \\\n",
       "0     REDMI 10 (Midnight Black, 64 GB)    9999   \n",
       "1  POCO X4 Pro 5G (Laser Blue, 128 GB)   16499   \n",
       "2   realme C11 2021 (Cool Grey, 32 GB)    7499   \n",
       "3  APPLE iPhone 14 (Starlight, 128 GB)   67999   \n",
       "4   realme C11 2021 (Cool Blue, 32 GB)    7499   \n",
       "\n",
       "                                         Description Brand Name    RAM  \n",
       "0  4 GB RAM | 64 GB ROM | Expandable Upto 1 TB17....      REDMI  4 GB   \n",
       "1  6 GB RAM | 128 GB ROM | Expandable Upto 1 TB16...       POCO  6 GB   \n",
       "2  2 GB RAM | 32 GB ROM | Expandable Upto 256 GB1...     realme  2 GB   \n",
       "3  128 GB ROM15.49 cm (6.1 inch) Super Retina XDR...      APPLE         \n",
       "4  2 GB RAM | 32 GB ROM | Expandable Upto 256 GB1...     realme  2 GB   "
      ]
     },
     "execution_count": 24,
     "metadata": {},
     "output_type": "execute_result"
    }
   ],
   "source": [
    "df.head()"
   ]
  },
  {
   "cell_type": "code",
   "execution_count": 25,
   "metadata": {},
   "outputs": [
    {
     "data": {
      "text/html": [
       "<div>\n",
       "<style scoped>\n",
       "    .dataframe tbody tr th:only-of-type {\n",
       "        vertical-align: middle;\n",
       "    }\n",
       "\n",
       "    .dataframe tbody tr th {\n",
       "        vertical-align: top;\n",
       "    }\n",
       "\n",
       "    .dataframe thead th {\n",
       "        text-align: right;\n",
       "    }\n",
       "</style>\n",
       "<table border=\"1\" class=\"dataframe\">\n",
       "  <thead>\n",
       "    <tr style=\"text-align: right;\">\n",
       "      <th></th>\n",
       "      <th>Product Name</th>\n",
       "      <th>Prices</th>\n",
       "      <th>Description</th>\n",
       "      <th>Brand Name</th>\n",
       "      <th>RAM</th>\n",
       "    </tr>\n",
       "  </thead>\n",
       "  <tbody>\n",
       "    <tr>\n",
       "      <th>0</th>\n",
       "      <td>REDMI 10 (Midnight Black, 64 GB)</td>\n",
       "      <td>9999</td>\n",
       "      <td>4 GB RAM | 64 GB ROM | Expandable Upto 1 TB17....</td>\n",
       "      <td>REDMI</td>\n",
       "      <td>4 GB</td>\n",
       "    </tr>\n",
       "    <tr>\n",
       "      <th>1</th>\n",
       "      <td>POCO X4 Pro 5G (Laser Blue, 128 GB)</td>\n",
       "      <td>16499</td>\n",
       "      <td>6 GB RAM | 128 GB ROM | Expandable Upto 1 TB16...</td>\n",
       "      <td>POCO</td>\n",
       "      <td>6 GB</td>\n",
       "    </tr>\n",
       "    <tr>\n",
       "      <th>2</th>\n",
       "      <td>realme C11 2021 (Cool Grey, 32 GB)</td>\n",
       "      <td>7499</td>\n",
       "      <td>2 GB RAM | 32 GB ROM | Expandable Upto 256 GB1...</td>\n",
       "      <td>realme</td>\n",
       "      <td>2 GB</td>\n",
       "    </tr>\n",
       "    <tr>\n",
       "      <th>3</th>\n",
       "      <td>APPLE iPhone 14 (Starlight, 128 GB)</td>\n",
       "      <td>67999</td>\n",
       "      <td>128 GB ROM15.49 cm (6.1 inch) Super Retina XDR...</td>\n",
       "      <td>APPLE</td>\n",
       "      <td></td>\n",
       "    </tr>\n",
       "    <tr>\n",
       "      <th>4</th>\n",
       "      <td>realme C11 2021 (Cool Blue, 32 GB)</td>\n",
       "      <td>7499</td>\n",
       "      <td>2 GB RAM | 32 GB ROM | Expandable Upto 256 GB1...</td>\n",
       "      <td>realme</td>\n",
       "      <td>2 GB</td>\n",
       "    </tr>\n",
       "    <tr>\n",
       "      <th>...</th>\n",
       "      <td>...</td>\n",
       "      <td>...</td>\n",
       "      <td>...</td>\n",
       "      <td>...</td>\n",
       "      <td>...</td>\n",
       "    </tr>\n",
       "    <tr>\n",
       "      <th>95</th>\n",
       "      <td>realme 9i (Prism Blue, 64 GB)</td>\n",
       "      <td>13499</td>\n",
       "      <td>4 GB RAM | 64 GB ROM | Expandable Upto 1 TB16....</td>\n",
       "      <td>realme</td>\n",
       "      <td>4 GB</td>\n",
       "    </tr>\n",
       "    <tr>\n",
       "      <th>96</th>\n",
       "      <td>vivo T1 44W (Starry Sky, 128 GB)</td>\n",
       "      <td>15999</td>\n",
       "      <td>6 GB RAM | 128 GB ROM | Expandable Upto 1 TB16...</td>\n",
       "      <td>vivo</td>\n",
       "      <td>6 GB</td>\n",
       "    </tr>\n",
       "    <tr>\n",
       "      <th>97</th>\n",
       "      <td>vivo T1 44W (Midnight Galaxy, 128 GB)</td>\n",
       "      <td>17999</td>\n",
       "      <td>8 GB RAM | 128 GB ROM | Expandable Upto 1 TB16...</td>\n",
       "      <td>vivo</td>\n",
       "      <td>8 GB</td>\n",
       "    </tr>\n",
       "    <tr>\n",
       "      <th>98</th>\n",
       "      <td>Nokia 105 SS</td>\n",
       "      <td>1299</td>\n",
       "      <td>32 MB RAM | 32 MB ROM4.5 cm (1.77 inch) QVGA D...</td>\n",
       "      <td>Nokia</td>\n",
       "      <td></td>\n",
       "    </tr>\n",
       "    <tr>\n",
       "      <th>99</th>\n",
       "      <td>MOTOROLA g22 (Iceberg Blue, 64 GB)</td>\n",
       "      <td>9499</td>\n",
       "      <td>4 GB RAM | 64 GB ROM | Expandable Upto 1 TB16....</td>\n",
       "      <td>MOTOROLA</td>\n",
       "      <td>4 GB</td>\n",
       "    </tr>\n",
       "  </tbody>\n",
       "</table>\n",
       "<p>100 rows × 5 columns</p>\n",
       "</div>"
      ],
      "text/plain": [
       "                             Product Name  Prices  \\\n",
       "0        REDMI 10 (Midnight Black, 64 GB)    9999   \n",
       "1     POCO X4 Pro 5G (Laser Blue, 128 GB)   16499   \n",
       "2      realme C11 2021 (Cool Grey, 32 GB)    7499   \n",
       "3     APPLE iPhone 14 (Starlight, 128 GB)   67999   \n",
       "4      realme C11 2021 (Cool Blue, 32 GB)    7499   \n",
       "..                                    ...     ...   \n",
       "95          realme 9i (Prism Blue, 64 GB)   13499   \n",
       "96       vivo T1 44W (Starry Sky, 128 GB)   15999   \n",
       "97  vivo T1 44W (Midnight Galaxy, 128 GB)   17999   \n",
       "98                           Nokia 105 SS    1299   \n",
       "99     MOTOROLA g22 (Iceberg Blue, 64 GB)    9499   \n",
       "\n",
       "                                          Description Brand Name    RAM  \n",
       "0   4 GB RAM | 64 GB ROM | Expandable Upto 1 TB17....      REDMI  4 GB   \n",
       "1   6 GB RAM | 128 GB ROM | Expandable Upto 1 TB16...       POCO  6 GB   \n",
       "2   2 GB RAM | 32 GB ROM | Expandable Upto 256 GB1...     realme  2 GB   \n",
       "3   128 GB ROM15.49 cm (6.1 inch) Super Retina XDR...      APPLE         \n",
       "4   2 GB RAM | 32 GB ROM | Expandable Upto 256 GB1...     realme  2 GB   \n",
       "..                                                ...        ...    ...  \n",
       "95  4 GB RAM | 64 GB ROM | Expandable Upto 1 TB16....     realme  4 GB   \n",
       "96  6 GB RAM | 128 GB ROM | Expandable Upto 1 TB16...       vivo  6 GB   \n",
       "97  8 GB RAM | 128 GB ROM | Expandable Upto 1 TB16...       vivo  8 GB   \n",
       "98  32 MB RAM | 32 MB ROM4.5 cm (1.77 inch) QVGA D...      Nokia         \n",
       "99  4 GB RAM | 64 GB ROM | Expandable Upto 1 TB16....   MOTOROLA  4 GB   \n",
       "\n",
       "[100 rows x 5 columns]"
      ]
     },
     "execution_count": 25,
     "metadata": {},
     "output_type": "execute_result"
    }
   ],
   "source": [
    "df.head(100)"
   ]
  },
  {
   "cell_type": "code",
   "execution_count": 35,
   "metadata": {},
   "outputs": [
    {
     "ename": "PermissionError",
     "evalue": "[Errno 13] Permission denied: 'file1.csv'",
     "output_type": "error",
     "traceback": [
      "\u001b[1;31m---------------------------------------------------------------------------\u001b[0m",
      "\u001b[1;31mPermissionError\u001b[0m                           Traceback (most recent call last)",
      "\u001b[1;32mc:\\Users\\MI\\Desktop\\Dsci\\Analysis.ipynb Cell 25\u001b[0m in \u001b[0;36m<cell line: 1>\u001b[1;34m()\u001b[0m\n\u001b[1;32m----> <a href='vscode-notebook-cell:/c%3A/Users/MI/Desktop/Dsci/Analysis.ipynb#X33sZmlsZQ%3D%3D?line=0'>1</a>\u001b[0m df\u001b[39m.\u001b[39;49mto_csv(\u001b[39m'\u001b[39;49m\u001b[39mfile1.csv\u001b[39;49m\u001b[39m'\u001b[39;49m)\n",
      "File \u001b[1;32m~\\AppData\\Local\\Packages\\PythonSoftwareFoundation.Python.3.9_qbz5n2kfra8p0\\LocalCache\\local-packages\\Python39\\site-packages\\pandas\\core\\generic.py:3551\u001b[0m, in \u001b[0;36mNDFrame.to_csv\u001b[1;34m(self, path_or_buf, sep, na_rep, float_format, columns, header, index, index_label, mode, encoding, compression, quoting, quotechar, line_terminator, chunksize, date_format, doublequote, escapechar, decimal, errors, storage_options)\u001b[0m\n\u001b[0;32m   3540\u001b[0m df \u001b[39m=\u001b[39m \u001b[39mself\u001b[39m \u001b[39mif\u001b[39;00m \u001b[39misinstance\u001b[39m(\u001b[39mself\u001b[39m, ABCDataFrame) \u001b[39melse\u001b[39;00m \u001b[39mself\u001b[39m\u001b[39m.\u001b[39mto_frame()\n\u001b[0;32m   3542\u001b[0m formatter \u001b[39m=\u001b[39m DataFrameFormatter(\n\u001b[0;32m   3543\u001b[0m     frame\u001b[39m=\u001b[39mdf,\n\u001b[0;32m   3544\u001b[0m     header\u001b[39m=\u001b[39mheader,\n\u001b[1;32m   (...)\u001b[0m\n\u001b[0;32m   3548\u001b[0m     decimal\u001b[39m=\u001b[39mdecimal,\n\u001b[0;32m   3549\u001b[0m )\n\u001b[1;32m-> 3551\u001b[0m \u001b[39mreturn\u001b[39;00m DataFrameRenderer(formatter)\u001b[39m.\u001b[39;49mto_csv(\n\u001b[0;32m   3552\u001b[0m     path_or_buf,\n\u001b[0;32m   3553\u001b[0m     line_terminator\u001b[39m=\u001b[39;49mline_terminator,\n\u001b[0;32m   3554\u001b[0m     sep\u001b[39m=\u001b[39;49msep,\n\u001b[0;32m   3555\u001b[0m     encoding\u001b[39m=\u001b[39;49mencoding,\n\u001b[0;32m   3556\u001b[0m     errors\u001b[39m=\u001b[39;49merrors,\n\u001b[0;32m   3557\u001b[0m     compression\u001b[39m=\u001b[39;49mcompression,\n\u001b[0;32m   3558\u001b[0m     quoting\u001b[39m=\u001b[39;49mquoting,\n\u001b[0;32m   3559\u001b[0m     columns\u001b[39m=\u001b[39;49mcolumns,\n\u001b[0;32m   3560\u001b[0m     index_label\u001b[39m=\u001b[39;49mindex_label,\n\u001b[0;32m   3561\u001b[0m     mode\u001b[39m=\u001b[39;49mmode,\n\u001b[0;32m   3562\u001b[0m     chunksize\u001b[39m=\u001b[39;49mchunksize,\n\u001b[0;32m   3563\u001b[0m     quotechar\u001b[39m=\u001b[39;49mquotechar,\n\u001b[0;32m   3564\u001b[0m     date_format\u001b[39m=\u001b[39;49mdate_format,\n\u001b[0;32m   3565\u001b[0m     doublequote\u001b[39m=\u001b[39;49mdoublequote,\n\u001b[0;32m   3566\u001b[0m     escapechar\u001b[39m=\u001b[39;49mescapechar,\n\u001b[0;32m   3567\u001b[0m     storage_options\u001b[39m=\u001b[39;49mstorage_options,\n\u001b[0;32m   3568\u001b[0m )\n",
      "File \u001b[1;32m~\\AppData\\Local\\Packages\\PythonSoftwareFoundation.Python.3.9_qbz5n2kfra8p0\\LocalCache\\local-packages\\Python39\\site-packages\\pandas\\io\\formats\\format.py:1180\u001b[0m, in \u001b[0;36mDataFrameRenderer.to_csv\u001b[1;34m(self, path_or_buf, encoding, sep, columns, index_label, mode, compression, quoting, quotechar, line_terminator, chunksize, date_format, doublequote, escapechar, errors, storage_options)\u001b[0m\n\u001b[0;32m   1159\u001b[0m     created_buffer \u001b[39m=\u001b[39m \u001b[39mFalse\u001b[39;00m\n\u001b[0;32m   1161\u001b[0m csv_formatter \u001b[39m=\u001b[39m CSVFormatter(\n\u001b[0;32m   1162\u001b[0m     path_or_buf\u001b[39m=\u001b[39mpath_or_buf,\n\u001b[0;32m   1163\u001b[0m     line_terminator\u001b[39m=\u001b[39mline_terminator,\n\u001b[1;32m   (...)\u001b[0m\n\u001b[0;32m   1178\u001b[0m     formatter\u001b[39m=\u001b[39m\u001b[39mself\u001b[39m\u001b[39m.\u001b[39mfmt,\n\u001b[0;32m   1179\u001b[0m )\n\u001b[1;32m-> 1180\u001b[0m csv_formatter\u001b[39m.\u001b[39;49msave()\n\u001b[0;32m   1182\u001b[0m \u001b[39mif\u001b[39;00m created_buffer:\n\u001b[0;32m   1183\u001b[0m     \u001b[39massert\u001b[39;00m \u001b[39misinstance\u001b[39m(path_or_buf, StringIO)\n",
      "File \u001b[1;32m~\\AppData\\Local\\Packages\\PythonSoftwareFoundation.Python.3.9_qbz5n2kfra8p0\\LocalCache\\local-packages\\Python39\\site-packages\\pandas\\io\\formats\\csvs.py:241\u001b[0m, in \u001b[0;36mCSVFormatter.save\u001b[1;34m(self)\u001b[0m\n\u001b[0;32m    237\u001b[0m \u001b[39m\"\"\"\u001b[39;00m\n\u001b[0;32m    238\u001b[0m \u001b[39mCreate the writer & save.\u001b[39;00m\n\u001b[0;32m    239\u001b[0m \u001b[39m\"\"\"\u001b[39;00m\n\u001b[0;32m    240\u001b[0m \u001b[39m# apply compression and byte/text conversion\u001b[39;00m\n\u001b[1;32m--> 241\u001b[0m \u001b[39mwith\u001b[39;00m get_handle(\n\u001b[0;32m    242\u001b[0m     \u001b[39mself\u001b[39;49m\u001b[39m.\u001b[39;49mfilepath_or_buffer,\n\u001b[0;32m    243\u001b[0m     \u001b[39mself\u001b[39;49m\u001b[39m.\u001b[39;49mmode,\n\u001b[0;32m    244\u001b[0m     encoding\u001b[39m=\u001b[39;49m\u001b[39mself\u001b[39;49m\u001b[39m.\u001b[39;49mencoding,\n\u001b[0;32m    245\u001b[0m     errors\u001b[39m=\u001b[39;49m\u001b[39mself\u001b[39;49m\u001b[39m.\u001b[39;49merrors,\n\u001b[0;32m    246\u001b[0m     compression\u001b[39m=\u001b[39;49m\u001b[39mself\u001b[39;49m\u001b[39m.\u001b[39;49mcompression,\n\u001b[0;32m    247\u001b[0m     storage_options\u001b[39m=\u001b[39;49m\u001b[39mself\u001b[39;49m\u001b[39m.\u001b[39;49mstorage_options,\n\u001b[0;32m    248\u001b[0m ) \u001b[39mas\u001b[39;00m handles:\n\u001b[0;32m    249\u001b[0m \n\u001b[0;32m    250\u001b[0m     \u001b[39m# Note: self.encoding is irrelevant here\u001b[39;00m\n\u001b[0;32m    251\u001b[0m     \u001b[39mself\u001b[39m\u001b[39m.\u001b[39mwriter \u001b[39m=\u001b[39m csvlib\u001b[39m.\u001b[39mwriter(\n\u001b[0;32m    252\u001b[0m         handles\u001b[39m.\u001b[39mhandle,\n\u001b[0;32m    253\u001b[0m         lineterminator\u001b[39m=\u001b[39m\u001b[39mself\u001b[39m\u001b[39m.\u001b[39mline_terminator,\n\u001b[1;32m   (...)\u001b[0m\n\u001b[0;32m    258\u001b[0m         quotechar\u001b[39m=\u001b[39m\u001b[39mself\u001b[39m\u001b[39m.\u001b[39mquotechar,\n\u001b[0;32m    259\u001b[0m     )\n\u001b[0;32m    261\u001b[0m     \u001b[39mself\u001b[39m\u001b[39m.\u001b[39m_save()\n",
      "File \u001b[1;32m~\\AppData\\Local\\Packages\\PythonSoftwareFoundation.Python.3.9_qbz5n2kfra8p0\\LocalCache\\local-packages\\Python39\\site-packages\\pandas\\io\\common.py:786\u001b[0m, in \u001b[0;36mget_handle\u001b[1;34m(path_or_buf, mode, encoding, compression, memory_map, is_text, errors, storage_options)\u001b[0m\n\u001b[0;32m    781\u001b[0m \u001b[39melif\u001b[39;00m \u001b[39misinstance\u001b[39m(handle, \u001b[39mstr\u001b[39m):\n\u001b[0;32m    782\u001b[0m     \u001b[39m# Check whether the filename is to be opened in binary mode.\u001b[39;00m\n\u001b[0;32m    783\u001b[0m     \u001b[39m# Binary mode does not support 'encoding' and 'newline'.\u001b[39;00m\n\u001b[0;32m    784\u001b[0m     \u001b[39mif\u001b[39;00m ioargs\u001b[39m.\u001b[39mencoding \u001b[39mand\u001b[39;00m \u001b[39m\"\u001b[39m\u001b[39mb\u001b[39m\u001b[39m\"\u001b[39m \u001b[39mnot\u001b[39;00m \u001b[39min\u001b[39;00m ioargs\u001b[39m.\u001b[39mmode:\n\u001b[0;32m    785\u001b[0m         \u001b[39m# Encoding\u001b[39;00m\n\u001b[1;32m--> 786\u001b[0m         handle \u001b[39m=\u001b[39m \u001b[39mopen\u001b[39;49m(\n\u001b[0;32m    787\u001b[0m             handle,\n\u001b[0;32m    788\u001b[0m             ioargs\u001b[39m.\u001b[39;49mmode,\n\u001b[0;32m    789\u001b[0m             encoding\u001b[39m=\u001b[39;49mioargs\u001b[39m.\u001b[39;49mencoding,\n\u001b[0;32m    790\u001b[0m             errors\u001b[39m=\u001b[39;49merrors,\n\u001b[0;32m    791\u001b[0m             newline\u001b[39m=\u001b[39;49m\u001b[39m\"\u001b[39;49m\u001b[39m\"\u001b[39;49m,\n\u001b[0;32m    792\u001b[0m         )\n\u001b[0;32m    793\u001b[0m     \u001b[39melse\u001b[39;00m:\n\u001b[0;32m    794\u001b[0m         \u001b[39m# Binary mode\u001b[39;00m\n\u001b[0;32m    795\u001b[0m         handle \u001b[39m=\u001b[39m \u001b[39mopen\u001b[39m(handle, ioargs\u001b[39m.\u001b[39mmode)\n",
      "\u001b[1;31mPermissionError\u001b[0m: [Errno 13] Permission denied: 'file1.csv'"
     ]
    }
   ],
   "source": [
    "df.to_csv('file1.csv')"
   ]
  },
  {
   "cell_type": "code",
   "execution_count": 36,
   "metadata": {},
   "outputs": [],
   "source": [
    "df = pd.read_csv('file1.csv',encoding= \"ISO-8859-1\")"
   ]
  },
  {
   "cell_type": "code",
   "execution_count": 28,
   "metadata": {},
   "outputs": [
    {
     "data": {
      "text/html": [
       "<div>\n",
       "<style scoped>\n",
       "    .dataframe tbody tr th:only-of-type {\n",
       "        vertical-align: middle;\n",
       "    }\n",
       "\n",
       "    .dataframe tbody tr th {\n",
       "        vertical-align: top;\n",
       "    }\n",
       "\n",
       "    .dataframe thead th {\n",
       "        text-align: right;\n",
       "    }\n",
       "</style>\n",
       "<table border=\"1\" class=\"dataframe\">\n",
       "  <thead>\n",
       "    <tr style=\"text-align: right;\">\n",
       "      <th></th>\n",
       "      <th>Unnamed: 0</th>\n",
       "      <th>Product Name</th>\n",
       "      <th>Prices</th>\n",
       "      <th>Description</th>\n",
       "      <th>Brand Name</th>\n",
       "      <th>RAM</th>\n",
       "    </tr>\n",
       "  </thead>\n",
       "  <tbody>\n",
       "    <tr>\n",
       "      <th>0</th>\n",
       "      <td>0</td>\n",
       "      <td>REDMI 10 (Midnight Black, 64 GB)</td>\n",
       "      <td>9999</td>\n",
       "      <td>4 GB RAM | 64 GB ROM | Expandable Upto 1 TB17....</td>\n",
       "      <td>REDMI</td>\n",
       "      <td>4 GB</td>\n",
       "    </tr>\n",
       "    <tr>\n",
       "      <th>1</th>\n",
       "      <td>1</td>\n",
       "      <td>POCO X4 Pro 5G (Laser Blue, 128 GB)</td>\n",
       "      <td>16499</td>\n",
       "      <td>6 GB RAM | 128 GB ROM | Expandable Upto 1 TB16...</td>\n",
       "      <td>POCO</td>\n",
       "      <td>6 GB</td>\n",
       "    </tr>\n",
       "    <tr>\n",
       "      <th>2</th>\n",
       "      <td>2</td>\n",
       "      <td>realme C11 2021 (Cool Grey, 32 GB)</td>\n",
       "      <td>7499</td>\n",
       "      <td>2 GB RAM | 32 GB ROM | Expandable Upto 256 GB1...</td>\n",
       "      <td>realme</td>\n",
       "      <td>2 GB</td>\n",
       "    </tr>\n",
       "    <tr>\n",
       "      <th>3</th>\n",
       "      <td>3</td>\n",
       "      <td>APPLE iPhone 14 (Starlight, 128 GB)</td>\n",
       "      <td>67999</td>\n",
       "      <td>128 GB ROM15.49 cm (6.1 inch) Super Retina XDR...</td>\n",
       "      <td>APPLE</td>\n",
       "      <td>NaN</td>\n",
       "    </tr>\n",
       "    <tr>\n",
       "      <th>4</th>\n",
       "      <td>4</td>\n",
       "      <td>realme C11 2021 (Cool Blue, 32 GB)</td>\n",
       "      <td>7499</td>\n",
       "      <td>2 GB RAM | 32 GB ROM | Expandable Upto 256 GB1...</td>\n",
       "      <td>realme</td>\n",
       "      <td>2 GB</td>\n",
       "    </tr>\n",
       "  </tbody>\n",
       "</table>\n",
       "</div>"
      ],
      "text/plain": [
       "   Unnamed: 0                         Product Name  Prices  \\\n",
       "0           0     REDMI 10 (Midnight Black, 64 GB)    9999   \n",
       "1           1  POCO X4 Pro 5G (Laser Blue, 128 GB)   16499   \n",
       "2           2   realme C11 2021 (Cool Grey, 32 GB)    7499   \n",
       "3           3  APPLE iPhone 14 (Starlight, 128 GB)   67999   \n",
       "4           4   realme C11 2021 (Cool Blue, 32 GB)    7499   \n",
       "\n",
       "                                         Description Brand Name    RAM  \n",
       "0  4 GB RAM | 64 GB ROM | Expandable Upto 1 TB17....      REDMI  4 GB   \n",
       "1  6 GB RAM | 128 GB ROM | Expandable Upto 1 TB16...       POCO  6 GB   \n",
       "2  2 GB RAM | 32 GB ROM | Expandable Upto 256 GB1...     realme  2 GB   \n",
       "3  128 GB ROM15.49 cm (6.1 inch) Super Retina XDR...      APPLE    NaN  \n",
       "4  2 GB RAM | 32 GB ROM | Expandable Upto 256 GB1...     realme  2 GB   "
      ]
     },
     "execution_count": 28,
     "metadata": {},
     "output_type": "execute_result"
    }
   ],
   "source": [
    "df.head()"
   ]
  },
  {
   "cell_type": "code",
   "execution_count": 37,
   "metadata": {},
   "outputs": [],
   "source": [
    "df['RAM'] = df['RAM'].astype('int')"
   ]
  },
  {
   "cell_type": "code",
   "execution_count": null,
   "metadata": {},
   "outputs": [
    {
     "data": {
      "text/html": [
       "<div>\n",
       "<style scoped>\n",
       "    .dataframe tbody tr th:only-of-type {\n",
       "        vertical-align: middle;\n",
       "    }\n",
       "\n",
       "    .dataframe tbody tr th {\n",
       "        vertical-align: top;\n",
       "    }\n",
       "\n",
       "    .dataframe thead th {\n",
       "        text-align: right;\n",
       "    }\n",
       "</style>\n",
       "<table border=\"1\" class=\"dataframe\">\n",
       "  <thead>\n",
       "    <tr style=\"text-align: right;\">\n",
       "      <th></th>\n",
       "      <th>Unnamed: 0</th>\n",
       "      <th>Product Name</th>\n",
       "      <th>Prices</th>\n",
       "      <th>Description</th>\n",
       "      <th>Brand Name</th>\n",
       "      <th>RAM</th>\n",
       "    </tr>\n",
       "  </thead>\n",
       "  <tbody>\n",
       "    <tr>\n",
       "      <th>0</th>\n",
       "      <td>389</td>\n",
       "      <td>SAMSUNG Guru Music 2</td>\n",
       "      <td>2069</td>\n",
       "      <td>0.53 RAM | NA KB ROM | Expandable Upto 16 GB5....</td>\n",
       "      <td>SAMSUNG</td>\n",
       "      <td>53</td>\n",
       "    </tr>\n",
       "    <tr>\n",
       "      <th>1</th>\n",
       "      <td>61</td>\n",
       "      <td>Nokia 105 PLUS</td>\n",
       "      <td>1399</td>\n",
       "      <td>4 MB RAM | 4 MB ROM4.5 cm (1.77 inch) Display0...</td>\n",
       "      <td>Nokia</td>\n",
       "      <td>4</td>\n",
       "    </tr>\n",
       "    <tr>\n",
       "      <th>2</th>\n",
       "      <td>100</td>\n",
       "      <td>Nokia 105 PLUS</td>\n",
       "      <td>1399</td>\n",
       "      <td>4 MB RAM | 4 MB ROM4.5 cm (1.77 inch) Display0...</td>\n",
       "      <td>Nokia</td>\n",
       "      <td>4</td>\n",
       "    </tr>\n",
       "    <tr>\n",
       "      <th>3</th>\n",
       "      <td>118</td>\n",
       "      <td>Motorola a10</td>\n",
       "      <td>1339</td>\n",
       "      <td>0 MB ROM | Expandable Upto 32 GB4.57 cm (1.8 i...</td>\n",
       "      <td>Motorola</td>\n",
       "      <td>4</td>\n",
       "    </tr>\n",
       "    <tr>\n",
       "      <th>4</th>\n",
       "      <td>120</td>\n",
       "      <td>LAVA GEM</td>\n",
       "      <td>1499</td>\n",
       "      <td>0 MB ROM | Expandable Upto 32 GB7.11 cm (2.8 i...</td>\n",
       "      <td>LAVA</td>\n",
       "      <td>4</td>\n",
       "    </tr>\n",
       "  </tbody>\n",
       "</table>\n",
       "</div>"
      ],
      "text/plain": [
       "   Unnamed: 0          Product Name  Prices  \\\n",
       "0         389  SAMSUNG Guru Music 2    2069   \n",
       "1          61        Nokia 105 PLUS    1399   \n",
       "2         100        Nokia 105 PLUS    1399   \n",
       "3         118          Motorola a10    1339   \n",
       "4         120              LAVA GEM    1499   \n",
       "\n",
       "                                         Description Brand Name  RAM  \n",
       "0  0.53 RAM | NA KB ROM | Expandable Upto 16 GB5....    SAMSUNG   53  \n",
       "1  4 MB RAM | 4 MB ROM4.5 cm (1.77 inch) Display0...      Nokia    4  \n",
       "2  4 MB RAM | 4 MB ROM4.5 cm (1.77 inch) Display0...      Nokia    4  \n",
       "3  0 MB ROM | Expandable Upto 32 GB4.57 cm (1.8 i...   Motorola    4  \n",
       "4  0 MB ROM | Expandable Upto 32 GB7.11 cm (2.8 i...       LAVA    4  "
      ]
     },
     "execution_count": 162,
     "metadata": {},
     "output_type": "execute_result"
    }
   ],
   "source": [
    "df.head()"
   ]
  },
  {
   "cell_type": "code",
   "execution_count": 38,
   "metadata": {},
   "outputs": [],
   "source": [
    "df.drop(columns=['Unnamed: 0'],inplace=True)"
   ]
  },
  {
   "cell_type": "code",
   "execution_count": 39,
   "metadata": {},
   "outputs": [
    {
     "data": {
      "text/html": [
       "<div>\n",
       "<style scoped>\n",
       "    .dataframe tbody tr th:only-of-type {\n",
       "        vertical-align: middle;\n",
       "    }\n",
       "\n",
       "    .dataframe tbody tr th {\n",
       "        vertical-align: top;\n",
       "    }\n",
       "\n",
       "    .dataframe thead th {\n",
       "        text-align: right;\n",
       "    }\n",
       "</style>\n",
       "<table border=\"1\" class=\"dataframe\">\n",
       "  <thead>\n",
       "    <tr style=\"text-align: right;\">\n",
       "      <th></th>\n",
       "      <th>Product Name</th>\n",
       "      <th>Prices</th>\n",
       "      <th>Description</th>\n",
       "      <th>Brand Name</th>\n",
       "      <th>RAM</th>\n",
       "    </tr>\n",
       "  </thead>\n",
       "  <tbody>\n",
       "    <tr>\n",
       "      <th>934</th>\n",
       "      <td>vivo V25 5G (Surfing Blue, 256 GB)</td>\n",
       "      <td>31999</td>\n",
       "      <td>12 GB RAM | 256 GB ROM16.36 cm (6.44 inch) Ful...</td>\n",
       "      <td>vivo</td>\n",
       "      <td>1200</td>\n",
       "    </tr>\n",
       "    <tr>\n",
       "      <th>935</th>\n",
       "      <td>OPPO A15s (Dynamic Black, 64 GB)</td>\n",
       "      <td>10285</td>\n",
       "      <td>4 GB RAM | 64 GB ROM16.56 cm (6.52 inch) Displ...</td>\n",
       "      <td>OPPO</td>\n",
       "      <td>4000</td>\n",
       "    </tr>\n",
       "    <tr>\n",
       "      <th>936</th>\n",
       "      <td>Nokia 110 TA-1302 DS</td>\n",
       "      <td>2099</td>\n",
       "      <td>4 MB RAM | 4 MB ROM | Expandable Upto 32 MB4.5...</td>\n",
       "      <td>Nokia</td>\n",
       "      <td>4</td>\n",
       "    </tr>\n",
       "    <tr>\n",
       "      <th>937</th>\n",
       "      <td>I Kall King Talking, Contact icon and Auto Cal...</td>\n",
       "      <td>774</td>\n",
       "      <td>32 MB RAM | 32 MB ROM4.57 cm (1.8 inch) Displa...</td>\n",
       "      <td>I</td>\n",
       "      <td>32</td>\n",
       "    </tr>\n",
       "    <tr>\n",
       "      <th>938</th>\n",
       "      <td>Tecno Spark 9 (Infinity Black, 128 GB)</td>\n",
       "      <td>9724</td>\n",
       "      <td>6 GB RAM | 128 GB ROM | Expandable Upto 512 GB...</td>\n",
       "      <td>Tecno</td>\n",
       "      <td>6000</td>\n",
       "    </tr>\n",
       "  </tbody>\n",
       "</table>\n",
       "</div>"
      ],
      "text/plain": [
       "                                          Product Name  Prices  \\\n",
       "934                 vivo V25 5G (Surfing Blue, 256 GB)   31999   \n",
       "935                   OPPO A15s (Dynamic Black, 64 GB)   10285   \n",
       "936                               Nokia 110 TA-1302 DS    2099   \n",
       "937  I Kall King Talking, Contact icon and Auto Cal...     774   \n",
       "938             Tecno Spark 9 (Infinity Black, 128 GB)    9724   \n",
       "\n",
       "                                           Description Brand Name   RAM  \n",
       "934  12 GB RAM | 256 GB ROM16.36 cm (6.44 inch) Ful...       vivo  1200  \n",
       "935  4 GB RAM | 64 GB ROM16.56 cm (6.52 inch) Displ...       OPPO  4000  \n",
       "936  4 MB RAM | 4 MB ROM | Expandable Upto 32 MB4.5...      Nokia     4  \n",
       "937  32 MB RAM | 32 MB ROM4.57 cm (1.8 inch) Displa...          I    32  \n",
       "938  6 GB RAM | 128 GB ROM | Expandable Upto 512 GB...      Tecno  6000  "
      ]
     },
     "execution_count": 39,
     "metadata": {},
     "output_type": "execute_result"
    }
   ],
   "source": [
    "df.tail()"
   ]
  },
  {
   "cell_type": "code",
   "execution_count": 34,
   "metadata": {},
   "outputs": [],
   "source": []
  },
  {
   "cell_type": "code",
   "execution_count": 52,
   "metadata": {},
   "outputs": [],
   "source": [
    "for i in df.index:\n",
    "              temp = \"ROM\"\n",
    "              if temp in df['Description'][i]:\n",
    "                            s = df['Description'][i].index(\"ROM\")-7\n",
    "                            e = df['Description'][i].index(\"ROM\")\n",
    "                            if(e==0):\n",
    "                                          df.at[i,'ROM'] = np.nan \n",
    "                            else:  \n",
    "                                          df.at[i,'ROM'] = df['Description'][i][s:e].strip()\n",
    "              else:\n",
    "                            df.at[i,'ROM'] = np.nan"
   ]
  },
  {
   "cell_type": "code",
   "execution_count": 54,
   "metadata": {},
   "outputs": [
    {
     "data": {
      "text/html": [
       "<div>\n",
       "<style scoped>\n",
       "    .dataframe tbody tr th:only-of-type {\n",
       "        vertical-align: middle;\n",
       "    }\n",
       "\n",
       "    .dataframe tbody tr th {\n",
       "        vertical-align: top;\n",
       "    }\n",
       "\n",
       "    .dataframe thead th {\n",
       "        text-align: right;\n",
       "    }\n",
       "</style>\n",
       "<table border=\"1\" class=\"dataframe\">\n",
       "  <thead>\n",
       "    <tr style=\"text-align: right;\">\n",
       "      <th></th>\n",
       "      <th>Product Name</th>\n",
       "      <th>Prices</th>\n",
       "      <th>Description</th>\n",
       "      <th>Brand Name</th>\n",
       "      <th>RAM</th>\n",
       "      <th>ROM</th>\n",
       "    </tr>\n",
       "  </thead>\n",
       "  <tbody>\n",
       "    <tr>\n",
       "      <th>0</th>\n",
       "      <td>REDMI 10 (Midnight Black, 64 GB)</td>\n",
       "      <td>9999</td>\n",
       "      <td>4 GB RAM | 64 GB ROM | Expandable Upto 1 TB17....</td>\n",
       "      <td>REDMI</td>\n",
       "      <td>4000</td>\n",
       "      <td>64 GB</td>\n",
       "    </tr>\n",
       "    <tr>\n",
       "      <th>1</th>\n",
       "      <td>POCO X4 Pro 5G (Laser Blue, 128 GB)</td>\n",
       "      <td>16499</td>\n",
       "      <td>6 GB RAM | 128 GB ROM | Expandable Upto 1 TB16...</td>\n",
       "      <td>POCO</td>\n",
       "      <td>6000</td>\n",
       "      <td>128 GB</td>\n",
       "    </tr>\n",
       "    <tr>\n",
       "      <th>2</th>\n",
       "      <td>realme C11 2021 (Cool Grey, 32 GB)</td>\n",
       "      <td>7499</td>\n",
       "      <td>2 GB RAM | 32 GB ROM | Expandable Upto 256 GB1...</td>\n",
       "      <td>realme</td>\n",
       "      <td>2000</td>\n",
       "      <td>32 GB</td>\n",
       "    </tr>\n",
       "    <tr>\n",
       "      <th>3</th>\n",
       "      <td>APPLE iPhone 14 (Starlight, 128 GB)</td>\n",
       "      <td>67999</td>\n",
       "      <td>128 GB ROM15.49 cm (6.1 inch) Super Retina XDR...</td>\n",
       "      <td>APPLE</td>\n",
       "      <td>6000</td>\n",
       "      <td>128 GB</td>\n",
       "    </tr>\n",
       "    <tr>\n",
       "      <th>4</th>\n",
       "      <td>realme C11 2021 (Cool Blue, 32 GB)</td>\n",
       "      <td>7499</td>\n",
       "      <td>2 GB RAM | 32 GB ROM | Expandable Upto 256 GB1...</td>\n",
       "      <td>realme</td>\n",
       "      <td>2000</td>\n",
       "      <td>32 GB</td>\n",
       "    </tr>\n",
       "  </tbody>\n",
       "</table>\n",
       "</div>"
      ],
      "text/plain": [
       "                          Product Name  Prices  \\\n",
       "0     REDMI 10 (Midnight Black, 64 GB)    9999   \n",
       "1  POCO X4 Pro 5G (Laser Blue, 128 GB)   16499   \n",
       "2   realme C11 2021 (Cool Grey, 32 GB)    7499   \n",
       "3  APPLE iPhone 14 (Starlight, 128 GB)   67999   \n",
       "4   realme C11 2021 (Cool Blue, 32 GB)    7499   \n",
       "\n",
       "                                         Description Brand Name   RAM     ROM  \n",
       "0  4 GB RAM | 64 GB ROM | Expandable Upto 1 TB17....      REDMI  4000   64 GB  \n",
       "1  6 GB RAM | 128 GB ROM | Expandable Upto 1 TB16...       POCO  6000  128 GB  \n",
       "2  2 GB RAM | 32 GB ROM | Expandable Upto 256 GB1...     realme  2000   32 GB  \n",
       "3  128 GB ROM15.49 cm (6.1 inch) Super Retina XDR...      APPLE  6000  128 GB  \n",
       "4  2 GB RAM | 32 GB ROM | Expandable Upto 256 GB1...     realme  2000   32 GB  "
      ]
     },
     "execution_count": 54,
     "metadata": {},
     "output_type": "execute_result"
    }
   ],
   "source": [
    "df.head()"
   ]
  },
  {
   "cell_type": "code",
   "execution_count": 55,
   "metadata": {},
   "outputs": [],
   "source": [
    "df['ROM'] = df['ROM'].str.replace(' GB','000')\n",
    "df['ROM'] = df['ROM'].str.replace(' MB','')\n"
   ]
  },
  {
   "cell_type": "code",
   "execution_count": 63,
   "metadata": {},
   "outputs": [
    {
     "name": "stderr",
     "output_type": "stream",
     "text": [
      "C:\\Users\\MI\\AppData\\Local\\Temp\\ipykernel_5856\\2376931467.py:1: FutureWarning: The default value of regex will change from True to False in a future version. In addition, single character regular expressions will *not* be treated as literal strings when regex=True.\n",
      "  df['ROM'] = df['ROM'].str.replace('|','')\n"
     ]
    }
   ],
   "source": [
    "df['ROM'] = df['ROM'].str.replace('|','')"
   ]
  },
  {
   "cell_type": "code",
   "execution_count": 103,
   "metadata": {},
   "outputs": [],
   "source": [
    "df = pd.read_csv('file2.csv',encoding= \"ISO-8859-1\")"
   ]
  },
  {
   "cell_type": "code",
   "execution_count": 70,
   "metadata": {},
   "outputs": [
    {
     "name": "stdout",
     "output_type": "stream",
     "text": [
      "<class 'pandas.core.frame.DataFrame'>\n",
      "RangeIndex: 939 entries, 0 to 938\n",
      "Data columns (total 7 columns):\n",
      " #   Column        Non-Null Count  Dtype \n",
      "---  ------        --------------  ----- \n",
      " 0   Unnamed: 0    939 non-null    int64 \n",
      " 1   Product Name  939 non-null    object\n",
      " 2   Prices        939 non-null    int64 \n",
      " 3   Description   939 non-null    object\n",
      " 4   Brand Name    939 non-null    object\n",
      " 5   RAM           939 non-null    int64 \n",
      " 6   ROM           939 non-null    int64 \n",
      "dtypes: int64(4), object(3)\n",
      "memory usage: 51.5+ KB\n"
     ]
    }
   ],
   "source": [
    "df.info()"
   ]
  },
  {
   "cell_type": "code",
   "execution_count": 104,
   "metadata": {},
   "outputs": [],
   "source": [
    "df.drop(columns=['Unnamed: 0'],inplace=True)"
   ]
  },
  {
   "cell_type": "code",
   "execution_count": 105,
   "metadata": {},
   "outputs": [
    {
     "name": "stdout",
     "output_type": "stream",
     "text": [
      "<class 'pandas.core.frame.DataFrame'>\n",
      "RangeIndex: 939 entries, 0 to 938\n",
      "Data columns (total 8 columns):\n",
      " #   Column        Non-Null Count  Dtype  \n",
      "---  ------        --------------  -----  \n",
      " 0   Product Name  939 non-null    object \n",
      " 1   Prices        939 non-null    int64  \n",
      " 2   Description   939 non-null    object \n",
      " 3   Brand Name    939 non-null    object \n",
      " 4   RAM           939 non-null    int64  \n",
      " 5   ROM           939 non-null    int64  \n",
      " 6   Size(inches)  939 non-null    float64\n",
      " 7   Batter(mAh)   939 non-null    int64  \n",
      "dtypes: float64(1), int64(4), object(3)\n",
      "memory usage: 58.8+ KB\n"
     ]
    }
   ],
   "source": [
    "df.info()"
   ]
  },
  {
   "cell_type": "code",
   "execution_count": 74,
   "metadata": {},
   "outputs": [],
   "source": [
    "for i in df.index:\n",
    "              temp = \"inch\"\n",
    "              if temp in df['Description'][i]:\n",
    "                            s = df['Description'][i].index(\"(\")+1\n",
    "                            e = df['Description'][i].index(\"inch\")\n",
    "                            if(e==0):\n",
    "                                          df.at[i,'Size(inches)'] = np.nan \n",
    "                            else:  \n",
    "                                          df.at[i,'Size(inches)'] = df['Description'][i][s:e].strip()\n",
    "              else:\n",
    "                            df.at[i,'Size(inches)'] = np.nan"
   ]
  },
  {
   "cell_type": "code",
   "execution_count": 84,
   "metadata": {},
   "outputs": [
    {
     "data": {
      "text/plain": [
       "0      6.70\n",
       "1      6.67\n",
       "2      6.50\n",
       "3      6.10\n",
       "4      6.50\n",
       "       ... \n",
       "934    6.44\n",
       "935    6.52\n",
       "936    1.77\n",
       "937    1.80\n",
       "938    6.60\n",
       "Name: Size(inches), Length: 939, dtype: float64"
      ]
     },
     "execution_count": 84,
     "metadata": {},
     "output_type": "execute_result"
    }
   ],
   "source": [
    "df['Size(inches)'].astype('float')"
   ]
  },
  {
   "cell_type": "code",
   "execution_count": 87,
   "metadata": {},
   "outputs": [],
   "source": [
    "for i in df.index:\n",
    "              temp = \"mAh\"\n",
    "              if temp in df['Description'][i]:\n",
    "                            s = df['Description'][i].index(\"mAh\")-5\n",
    "                            e = df['Description'][i].index(\"mAh\")\n",
    "                            if(e==0):\n",
    "                                          df.at[i,'Batter(mAh)'] = np.nan \n",
    "                            else:  \n",
    "                                          df.at[i,'Batter(mAh)'] = df['Description'][i][s:e].strip()\n",
    "              else:\n",
    "                            df.at[i,'Batter(mAh)'] = np.nan"
   ]
  },
  {
   "cell_type": "code",
   "execution_count": null,
   "metadata": {},
   "outputs": [],
   "source": [
    "df.to_csv('file1.csv')"
   ]
  }
 ],
 "metadata": {
  "kernelspec": {
   "display_name": "Python 3",
   "language": "python",
   "name": "python3"
  },
  "language_info": {
   "codemirror_mode": {
    "name": "ipython",
    "version": 3
   },
   "file_extension": ".py",
   "mimetype": "text/x-python",
   "name": "python",
   "nbconvert_exporter": "python",
   "pygments_lexer": "ipython3",
   "version": "3.9.13"
  },
  "orig_nbformat": 4,
  "vscode": {
   "interpreter": {
    "hash": "6dd57269aed878346cce84acbfc6ca247e3a788e736e7c58b35f010c779f7b07"
   }
  }
 },
 "nbformat": 4,
 "nbformat_minor": 2
}
